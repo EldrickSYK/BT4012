{
 "cells": [
  {
   "cell_type": "markdown",
   "metadata": {},
   "source": [
    "# Setup Environment"
   ]
  },
  {
   "cell_type": "code",
   "execution_count": 20,
   "metadata": {},
   "outputs": [],
   "source": [
    "import pandas as pd\n",
    "import numpy as np\n",
    "from numpy import mean, std\n",
    "from sklearn.model_selection import train_test_split, cross_val_score, RepeatedStratifiedKFold, cross_validate\n",
    "from sklearn.metrics import precision_recall_curve, auc, make_scorer\n",
    "import joblib\n",
    "\n"
   ]
  },
  {
   "cell_type": "markdown",
   "metadata": {},
   "source": [
    "# Modelling"
   ]
  },
  {
   "cell_type": "markdown",
   "metadata": {},
   "source": [
    "## Train Test Split"
   ]
  },
  {
   "cell_type": "code",
   "execution_count": 5,
   "metadata": {},
   "outputs": [],
   "source": [
    "# Load intermediate dataset\n",
    "data = pd.read_csv(\"Cleaned data/finalised_data.csv\", index_col=None)"
   ]
  },
  {
   "cell_type": "code",
   "execution_count": 6,
   "metadata": {},
   "outputs": [
    {
     "data": {
      "text/html": [
       "<div>\n",
       "<style scoped>\n",
       "    .dataframe tbody tr th:only-of-type {\n",
       "        vertical-align: middle;\n",
       "    }\n",
       "\n",
       "    .dataframe tbody tr th {\n",
       "        vertical-align: top;\n",
       "    }\n",
       "\n",
       "    .dataframe thead th {\n",
       "        text-align: right;\n",
       "    }\n",
       "</style>\n",
       "<table border=\"1\" class=\"dataframe\">\n",
       "  <thead>\n",
       "    <tr style=\"text-align: right;\">\n",
       "      <th></th>\n",
       "      <th>Transaction ID</th>\n",
       "      <th>Customer ID</th>\n",
       "      <th>Transaction Amount</th>\n",
       "      <th>Transaction Date</th>\n",
       "      <th>Quantity</th>\n",
       "      <th>Customer Age</th>\n",
       "      <th>Customer Location</th>\n",
       "      <th>IP Address</th>\n",
       "      <th>Shipping Address</th>\n",
       "      <th>Billing Address</th>\n",
       "      <th>...</th>\n",
       "      <th>Payment Method_credit card</th>\n",
       "      <th>Payment Method_debit card</th>\n",
       "      <th>Product Category_clothing</th>\n",
       "      <th>Product Category_electronics</th>\n",
       "      <th>Product Category_health &amp; beauty</th>\n",
       "      <th>Product Category_home &amp; garden</th>\n",
       "      <th>Product Category_toys &amp; games</th>\n",
       "      <th>Device Used_desktop</th>\n",
       "      <th>Device Used_mobile</th>\n",
       "      <th>Device Used_tablet</th>\n",
       "    </tr>\n",
       "  </thead>\n",
       "  <tbody>\n",
       "    <tr>\n",
       "      <th>0</th>\n",
       "      <td>c12e07a0-8a06-4c0d-b5cc-04f3af688570</td>\n",
       "      <td>8ca9f102-02a4-4207-ab63-484e83a1bdf0</td>\n",
       "      <td>42.32</td>\n",
       "      <td>2024-03-24 23:42:43</td>\n",
       "      <td>1</td>\n",
       "      <td>40</td>\n",
       "      <td>East Jameshaven</td>\n",
       "      <td>110.87.246.85</td>\n",
       "      <td>5399 Rachel Stravenue Suite 718\\nNorth Blakebu...</td>\n",
       "      <td>5399 Rachel Stravenue Suite 718\\nNorth Blakebu...</td>\n",
       "      <td>...</td>\n",
       "      <td>False</td>\n",
       "      <td>False</td>\n",
       "      <td>False</td>\n",
       "      <td>True</td>\n",
       "      <td>False</td>\n",
       "      <td>False</td>\n",
       "      <td>False</td>\n",
       "      <td>True</td>\n",
       "      <td>False</td>\n",
       "      <td>False</td>\n",
       "    </tr>\n",
       "    <tr>\n",
       "      <th>1</th>\n",
       "      <td>7d187603-7961-4fce-9827-9698e2b6a201</td>\n",
       "      <td>4d158416-caae-4b09-bd5b-15235deb9129</td>\n",
       "      <td>301.34</td>\n",
       "      <td>2024-01-22 00:53:31</td>\n",
       "      <td>3</td>\n",
       "      <td>35</td>\n",
       "      <td>Kingstad</td>\n",
       "      <td>14.73.104.153</td>\n",
       "      <td>5230 Stephanie Forge\\nCollinsbury, PR 81853</td>\n",
       "      <td>5230 Stephanie Forge\\nCollinsbury, PR 81853</td>\n",
       "      <td>...</td>\n",
       "      <td>True</td>\n",
       "      <td>False</td>\n",
       "      <td>False</td>\n",
       "      <td>True</td>\n",
       "      <td>False</td>\n",
       "      <td>False</td>\n",
       "      <td>False</td>\n",
       "      <td>False</td>\n",
       "      <td>False</td>\n",
       "      <td>True</td>\n",
       "    </tr>\n",
       "    <tr>\n",
       "      <th>2</th>\n",
       "      <td>f2c14f9d-92df-4aaf-8931-ceaf4e63ed72</td>\n",
       "      <td>ccae47b8-75c7-4f5a-aa9e-957deced2137</td>\n",
       "      <td>340.32</td>\n",
       "      <td>2024-01-22 08:06:03</td>\n",
       "      <td>5</td>\n",
       "      <td>29</td>\n",
       "      <td>North Ryan</td>\n",
       "      <td>67.58.94.93</td>\n",
       "      <td>195 Cole Oval\\nPort Larry, IA 58422</td>\n",
       "      <td>4772 David Stravenue Apt. 447\\nVelasquezside, ...</td>\n",
       "      <td>...</td>\n",
       "      <td>False</td>\n",
       "      <td>True</td>\n",
       "      <td>False</td>\n",
       "      <td>False</td>\n",
       "      <td>False</td>\n",
       "      <td>False</td>\n",
       "      <td>True</td>\n",
       "      <td>True</td>\n",
       "      <td>False</td>\n",
       "      <td>False</td>\n",
       "    </tr>\n",
       "    <tr>\n",
       "      <th>3</th>\n",
       "      <td>e9949bfa-194d-486b-84da-9565fca9e5ce</td>\n",
       "      <td>b04960c0-aeee-4907-b1cd-4819016adcef</td>\n",
       "      <td>95.77</td>\n",
       "      <td>2024-01-16 20:34:53</td>\n",
       "      <td>5</td>\n",
       "      <td>45</td>\n",
       "      <td>Kaylaville</td>\n",
       "      <td>202.122.126.216</td>\n",
       "      <td>7609 Cynthia Square\\nWest Brenda, NV 23016</td>\n",
       "      <td>7609 Cynthia Square\\nWest Brenda, NV 23016</td>\n",
       "      <td>...</td>\n",
       "      <td>True</td>\n",
       "      <td>False</td>\n",
       "      <td>False</td>\n",
       "      <td>True</td>\n",
       "      <td>False</td>\n",
       "      <td>False</td>\n",
       "      <td>False</td>\n",
       "      <td>False</td>\n",
       "      <td>True</td>\n",
       "      <td>False</td>\n",
       "    </tr>\n",
       "    <tr>\n",
       "      <th>4</th>\n",
       "      <td>7362837c-7538-434e-8731-0df713f5f26d</td>\n",
       "      <td>de9d6351-b3a7-4bc7-9a55-8f013eb66928</td>\n",
       "      <td>77.45</td>\n",
       "      <td>2024-01-16 15:47:23</td>\n",
       "      <td>5</td>\n",
       "      <td>42</td>\n",
       "      <td>North Edwardborough</td>\n",
       "      <td>96.77.232.76</td>\n",
       "      <td>2494 Robert Ramp Suite 313\\nRobinsonport, AS 5...</td>\n",
       "      <td>2494 Robert Ramp Suite 313\\nRobinsonport, AS 5...</td>\n",
       "      <td>...</td>\n",
       "      <td>True</td>\n",
       "      <td>False</td>\n",
       "      <td>True</td>\n",
       "      <td>False</td>\n",
       "      <td>False</td>\n",
       "      <td>False</td>\n",
       "      <td>False</td>\n",
       "      <td>True</td>\n",
       "      <td>False</td>\n",
       "      <td>False</td>\n",
       "    </tr>\n",
       "  </tbody>\n",
       "</table>\n",
       "<p>5 rows × 30 columns</p>\n",
       "</div>"
      ],
      "text/plain": [
       "                         Transaction ID                           Customer ID  \\\n",
       "0  c12e07a0-8a06-4c0d-b5cc-04f3af688570  8ca9f102-02a4-4207-ab63-484e83a1bdf0   \n",
       "1  7d187603-7961-4fce-9827-9698e2b6a201  4d158416-caae-4b09-bd5b-15235deb9129   \n",
       "2  f2c14f9d-92df-4aaf-8931-ceaf4e63ed72  ccae47b8-75c7-4f5a-aa9e-957deced2137   \n",
       "3  e9949bfa-194d-486b-84da-9565fca9e5ce  b04960c0-aeee-4907-b1cd-4819016adcef   \n",
       "4  7362837c-7538-434e-8731-0df713f5f26d  de9d6351-b3a7-4bc7-9a55-8f013eb66928   \n",
       "\n",
       "   Transaction Amount     Transaction Date  Quantity  Customer Age  \\\n",
       "0               42.32  2024-03-24 23:42:43         1            40   \n",
       "1              301.34  2024-01-22 00:53:31         3            35   \n",
       "2              340.32  2024-01-22 08:06:03         5            29   \n",
       "3               95.77  2024-01-16 20:34:53         5            45   \n",
       "4               77.45  2024-01-16 15:47:23         5            42   \n",
       "\n",
       "     Customer Location       IP Address  \\\n",
       "0      East Jameshaven    110.87.246.85   \n",
       "1             Kingstad    14.73.104.153   \n",
       "2           North Ryan      67.58.94.93   \n",
       "3           Kaylaville  202.122.126.216   \n",
       "4  North Edwardborough     96.77.232.76   \n",
       "\n",
       "                                    Shipping Address  \\\n",
       "0  5399 Rachel Stravenue Suite 718\\nNorth Blakebu...   \n",
       "1        5230 Stephanie Forge\\nCollinsbury, PR 81853   \n",
       "2                195 Cole Oval\\nPort Larry, IA 58422   \n",
       "3         7609 Cynthia Square\\nWest Brenda, NV 23016   \n",
       "4  2494 Robert Ramp Suite 313\\nRobinsonport, AS 5...   \n",
       "\n",
       "                                     Billing Address  ...  \\\n",
       "0  5399 Rachel Stravenue Suite 718\\nNorth Blakebu...  ...   \n",
       "1        5230 Stephanie Forge\\nCollinsbury, PR 81853  ...   \n",
       "2  4772 David Stravenue Apt. 447\\nVelasquezside, ...  ...   \n",
       "3         7609 Cynthia Square\\nWest Brenda, NV 23016  ...   \n",
       "4  2494 Robert Ramp Suite 313\\nRobinsonport, AS 5...  ...   \n",
       "\n",
       "   Payment Method_credit card  Payment Method_debit card  \\\n",
       "0                       False                      False   \n",
       "1                        True                      False   \n",
       "2                       False                       True   \n",
       "3                        True                      False   \n",
       "4                        True                      False   \n",
       "\n",
       "   Product Category_clothing  Product Category_electronics  \\\n",
       "0                      False                          True   \n",
       "1                      False                          True   \n",
       "2                      False                         False   \n",
       "3                      False                          True   \n",
       "4                       True                         False   \n",
       "\n",
       "   Product Category_health & beauty  Product Category_home & garden  \\\n",
       "0                             False                           False   \n",
       "1                             False                           False   \n",
       "2                             False                           False   \n",
       "3                             False                           False   \n",
       "4                             False                           False   \n",
       "\n",
       "   Product Category_toys & games  Device Used_desktop  Device Used_mobile  \\\n",
       "0                          False                 True               False   \n",
       "1                          False                False               False   \n",
       "2                           True                 True               False   \n",
       "3                          False                False                True   \n",
       "4                          False                 True               False   \n",
       "\n",
       "   Device Used_tablet  \n",
       "0               False  \n",
       "1                True  \n",
       "2               False  \n",
       "3               False  \n",
       "4               False  \n",
       "\n",
       "[5 rows x 30 columns]"
      ]
     },
     "execution_count": 6,
     "metadata": {},
     "output_type": "execute_result"
    }
   ],
   "source": [
    "data.head()"
   ]
  },
  {
   "cell_type": "code",
   "execution_count": null,
   "metadata": {},
   "outputs": [
    {
     "name": "stdout",
     "output_type": "stream",
     "text": [
      "Transaction Amount    73113.509492\n",
      "Quantity                  2.001479\n",
      "Customer Age            100.062697\n",
      "Is Fraudulent             0.047616\n",
      "Account Age Days      11419.962167\n",
      "Transaction Hour         48.664510\n",
      "Age Group                 1.163202\n",
      "ShipBill                  0.090124\n",
      "dtype: float64\n"
     ]
    }
   ],
   "source": [
    "# Feature Selection of Numeric Variables\n",
    "numeric_columns = data.select_dtypes(include=['int64', 'float64'])\n",
    "# Check Variance of Numeric Variables\n",
    "variance = numeric_columns.var()\n",
    "print(variance)"
   ]
  },
  {
   "cell_type": "code",
   "execution_count": null,
   "metadata": {},
   "outputs": [
    {
     "name": "stdout",
     "output_type": "stream",
     "text": [
      "Transaction ID\n",
      "15d2e414-8735-46fc-9e02-80b472b2580f    1\n",
      "a81a89d3-15db-498d-b7a2-715233d5c477    1\n",
      "e7e0aafc-d2f2-418d-9b7f-cc05cb9b2a8b    1\n",
      "89fbc566-0421-4859-be00-a4803d0ed21a    1\n",
      "8406043a-d4e0-463e-8ca4-bc3492c87503    1\n",
      "                                       ..\n",
      "6d036b10-29b9-46db-8024-f0ddb8c357aa    1\n",
      "76fbbad6-34ca-4f1f-a503-dd5013ececab    1\n",
      "59a01e3a-1539-4d17-bd21-adbfcdbeedcd    1\n",
      "96cdb681-8b01-4611-a1a5-28a4fac98af3    1\n",
      "d1a811a2-6015-47fa-95e5-0a5282755932    1\n",
      "Name: count, Length: 1472694, dtype: int64\n",
      "Customer ID\n",
      "d1b87f62-51b2-493b-ad6a-77e0fe13e785    1\n",
      "befaa147-b877-47f3-85a9-1920711f36fe    1\n",
      "4bdf4788-d8b9-4e8f-bb69-b5a068c59f71    1\n",
      "f1e7c30f-d719-4dff-ba6a-4f08fe5d62da    1\n",
      "3407fadb-fd04-4ebe-947f-9e8541bf68eb    1\n",
      "                                       ..\n",
      "b587a76d-5830-4b6f-833b-f7958f8d7647    1\n",
      "7783a7ea-7a52-4c79-893b-2834b19647b9    1\n",
      "1c94d0c8-34bc-4df2-b263-7b1f232601fd    1\n",
      "100fa7e8-8b17-4775-aed0-df01a255ac06    1\n",
      "637d5ed1-a4af-4234-a1d9-a3791b6f1bb6    1\n",
      "Name: count, Length: 1472694, dtype: int64\n",
      "Transaction Date\n",
      "2024-01-27 04:00:16    6\n",
      "2024-01-04 00:52:09    5\n",
      "2024-01-10 09:13:24    5\n",
      "2024-03-15 16:22:08    5\n",
      "2024-01-05 02:14:55    5\n",
      "                      ..\n",
      "2024-02-03 14:37:29    1\n",
      "2024-03-27 14:14:13    1\n",
      "2024-01-22 00:20:25    1\n",
      "2024-01-21 05:16:59    1\n",
      "2024-01-12 16:21:32    1\n",
      "Name: count, Length: 1346471, dtype: int64\n",
      "Payment Method\n",
      "credit card      368361\n",
      "debit card       368217\n",
      "bank transfer    368211\n",
      "PayPal           367905\n",
      "Name: count, dtype: int64\n",
      "Product Category\n",
      "health & beauty    295305\n",
      "electronics        295248\n",
      "clothing           294257\n",
      "toys & games       294226\n",
      "home & garden      293658\n",
      "Name: count, dtype: int64\n",
      "Customer Location\n",
      "New Michael              1258\n",
      "South Michael            1208\n",
      "East Michael             1205\n",
      "Port Michael             1204\n",
      "West Michael             1201\n",
      "                         ... \n",
      "South Duaneshire            1\n",
      "North Robynshire            1\n",
      "Lake Shaunborough           1\n",
      "South Geoffreychester       1\n",
      "South Melvinburgh           1\n",
      "Name: count, Length: 99132, dtype: int64\n",
      "Device Used\n",
      "mobile     491663\n",
      "tablet     490844\n",
      "desktop    490187\n",
      "Name: count, dtype: int64\n",
      "IP Address\n",
      "154.20.167.184     2\n",
      "145.122.241.229    2\n",
      "177.40.144.252     2\n",
      "148.243.160.123    2\n",
      "119.114.224.224    2\n",
      "                  ..\n",
      "149.27.184.235     1\n",
      "218.209.175.72     1\n",
      "114.154.124.161    1\n",
      "108.221.205.85     1\n",
      "107.116.208.218    1\n",
      "Name: count, Length: 1472393, dtype: int64\n",
      "Shipping Address\n",
      "USS Sanchez\\nFPO AE 14652                                 2\n",
      "USCGC Holmes\\nFPO AA 56289                                2\n",
      "USNV Black\\nFPO AP 75390                                  2\n",
      "USCGC Brown\\nFPO AE 16210                                 2\n",
      "8940 King Fork Suite 305\\nWalkerport, OH 92814            1\n",
      "                                                         ..\n",
      "6900 Ashley Mews Suite 227\\nWest Melissa, IL 61995        1\n",
      "2982 Kirby Bypass Apt. 439\\nEast Michaeltown, AS 85276    1\n",
      "37744 Carey Center\\nSouth Barbaraview, FL 27406           1\n",
      "6164 Molly Lodge Apt. 281\\nEast Meghan, NV 82673          1\n",
      "Unit 0520 Box 5911\\nDPO AE 75554                          1\n",
      "Name: count, Length: 1472690, dtype: int64\n",
      "Billing Address\n",
      "USNS Mills\\nFPO AE 77203                                  2\n",
      "USCGC Holmes\\nFPO AA 56289                                2\n",
      "USCGC Brown\\nFPO AE 16210                                 2\n",
      "Unit 8934 Box 0058\\nDPO AA 05437                          1\n",
      "8940 King Fork Suite 305\\nWalkerport, OH 92814            1\n",
      "                                                         ..\n",
      "09638 Romero Underpass Apt. 312\\nPort Tonya, NH 43395     1\n",
      "6900 Ashley Mews Suite 227\\nWest Melissa, IL 61995        1\n",
      "2982 Kirby Bypass Apt. 439\\nEast Michaeltown, AS 85276    1\n",
      "37744 Carey Center\\nSouth Barbaraview, FL 27406           1\n",
      "Unit 0520 Box 5911\\nDPO AE 75554                          1\n",
      "Name: count, Length: 1472691, dtype: int64\n",
      "Age Group\n",
      "36-45       503145\n",
      "26-35       502900\n",
      "46-55       200525\n",
      "18-25       167280\n",
      "1-17         64951\n",
      "56-65        31643\n",
      "66-75         1941\n",
      "-20 to 0       263\n",
      "76-86           45\n",
      "Name: count, dtype: int64\n"
     ]
    }
   ],
   "source": [
    "# Check Variance of Categorical Variables\n",
    "categorical_columns = data.select_dtypes(include=['object'])\n",
    "# Count of Categorical features and remove if lacking variance\n",
    "for column in categorical_columns.columns:\n",
    "    print(categorical_columns[column].value_counts())"
   ]
  },
  {
   "cell_type": "code",
   "execution_count": 7,
   "metadata": {},
   "outputs": [],
   "source": [
    "# Remove variables if needed\n",
    "drop_columns = ['Shipping Address', 'Billing Address', 'Transaction ID', \n",
    "                'Customer ID', 'Transaction Date', 'IP Address', 'Customer Location']\n",
    "data = data.drop(columns=drop_columns)"
   ]
  },
  {
   "cell_type": "code",
   "execution_count": 8,
   "metadata": {},
   "outputs": [
    {
     "name": "stdout",
     "output_type": "stream",
     "text": [
      "Transaction Amount                  0\n",
      "Quantity                            0\n",
      "Customer Age                        0\n",
      "Is Fraudulent                       0\n",
      "Account Age Days                    0\n",
      "Transaction Hour                    0\n",
      "Log Transaction Amount              0\n",
      "Age Group                           0\n",
      "addressesMatch                      0\n",
      "isPOBox                             0\n",
      "ShipBill                            0\n",
      "Payment Method_PayPal               0\n",
      "Payment Method_bank transfer        0\n",
      "Payment Method_credit card          0\n",
      "Payment Method_debit card           0\n",
      "Product Category_clothing           0\n",
      "Product Category_electronics        0\n",
      "Product Category_health & beauty    0\n",
      "Product Category_home & garden      0\n",
      "Product Category_toys & games       0\n",
      "Device Used_desktop                 0\n",
      "Device Used_mobile                  0\n",
      "Device Used_tablet                  0\n",
      "dtype: int64\n"
     ]
    }
   ],
   "source": [
    "print(data.isnull().sum())"
   ]
  },
  {
   "cell_type": "code",
   "execution_count": 23,
   "metadata": {},
   "outputs": [],
   "source": [
    "# Train test split\n",
    "X = data.loc[:, data.columns != 'Is Fraudulent']\n",
    "y = data[\"Is Fraudulent\"]\n",
    "X_train, X_test, y_train, y_test = train_test_split(X, y, test_size=0.2, random_state=0)\n",
    "\n",
    "cv = RepeatedStratifiedKFold(n_splits=10, n_repeats=3, random_state=1)\n"
   ]
  },
  {
   "cell_type": "markdown",
   "metadata": {},
   "source": [
    "# Model Creation and Evaluation\n"
   ]
  },
  {
   "cell_type": "code",
   "execution_count": 22,
   "metadata": {},
   "outputs": [],
   "source": [
    "# Create AUC eval function\n",
    "def pr_auc(y_true, probas_pred):\n",
    "    # calculate precision-recall curve\n",
    "    p, r, _ = precision_recall_curve(y_true, probas_pred)\n",
    "    # calculate area under curve\n",
    "    return auc(r, p)"
   ]
  },
  {
   "cell_type": "markdown",
   "metadata": {},
   "source": [
    "## Extra Trees Classifier"
   ]
  },
  {
   "cell_type": "code",
   "execution_count": 28,
   "metadata": {},
   "outputs": [
    {
     "name": "stderr",
     "output_type": "stream",
     "text": [
      "/Users/eldricksim/Desktop/NUS/Year 4/Y4S1/BT4012/Github Code/.venv/lib/python3.9/site-packages/sklearn/metrics/_scorer.py:610: FutureWarning: The `needs_threshold` and `needs_proba` parameter are deprecated in version 1.4 and will be removed in 1.6. You can either let `response_method` be `None` or set it to `predict` to preserve the same behaviour.\n",
      "  warnings.warn(\n"
     ]
    },
    {
     "name": "stdout",
     "output_type": "stream",
     "text": [
      "Fitting 30 folds for each of 81 candidates, totalling 2430 fits\n",
      "Best PR-AUC Score: 0.3697155835263206\n"
     ]
    },
    {
     "data": {
      "text/plain": [
       "['Models/best_et_model.pkl']"
      ]
     },
     "execution_count": 28,
     "metadata": {},
     "output_type": "execute_result"
    }
   ],
   "source": [
    "from sklearn.ensemble import ExtraTreesClassifier\n",
    "from sklearn.model_selection import GridSearchCV\n",
    "\n",
    "# Define the parameter grid for grid search\n",
    "param_grid = {\n",
    "    'n_estimators': [100, 200, 300],\n",
    "    'max_depth': [None, 5, 10],\n",
    "    'min_samples_split': [2, 5, 10],\n",
    "    'min_samples_leaf': [1, 2, 4]\n",
    "}\n",
    "\n",
    "# Create the Extra Trees classifier\n",
    "extra_trees = ExtraTreesClassifier()\n",
    "\n",
    "# Perform grid search with cross-validation\n",
    "grid_search = GridSearchCV(extra_trees, param_grid, scoring=make_scorer(pr_auc, needs_proba=True),\n",
    "                           cv=cv, n_jobs=-1, verbose=1)\n",
    "grid_search.fit(X_train, y_train)\n",
    "\n",
    "# Get the best parameters and score\n",
    "best_params = grid_search.best_params_\n",
    "best_score = grid_search.best_score_\n",
    "\n",
    "# Print the best score\n",
    "print(\"Best PR-AUC Score:\", best_score)\n",
    "\n",
    "# Save the best model\n",
    "best_et_model = grid_search.best_estimator_\n",
    "joblib.dump(best_et_model, \"Models/best_et_model.pkl\")"
   ]
  },
  {
   "cell_type": "markdown",
   "metadata": {},
   "source": [
    "## Random Forest Classifier"
   ]
  },
  {
   "cell_type": "code",
   "execution_count": 25,
   "metadata": {},
   "outputs": [
    {
     "name": "stdout",
     "output_type": "stream",
     "text": [
      "Fitting 30 folds for each of 81 candidates, totalling 2430 fits\n"
     ]
    },
    {
     "name": "stdout",
     "output_type": "stream",
     "text": [
      "Best pr_auc: 0.5217047751394168\n"
     ]
    },
    {
     "data": {
      "text/plain": [
       "['best_model.joblib']"
      ]
     },
     "execution_count": 25,
     "metadata": {},
     "output_type": "execute_result"
    }
   ],
   "source": [
    "from sklearn.ensemble import RandomForestClassifier\n",
    "from sklearn.model_selection import GridSearchCV\n",
    "from sklearn.metrics import make_scorer\n",
    "\n",
    "\n",
    "# Define the parameter grid for grid search\n",
    "param_grid = {\n",
    "    'n_estimators': [100, 200, 300],\n",
    "    'max_depth': [None, 5, 10],\n",
    "    'min_samples_split': [2, 5, 10],\n",
    "    'min_samples_leaf': [1, 2, 4]\n",
    "}\n",
    "\n",
    "# Create the random forest classifier\n",
    "rf = RandomForestClassifier()\n",
    "\n",
    "# Perform grid search with repeated stratified k-fold cross-validation\n",
    "grid_search = GridSearchCV(estimator=rf, param_grid=param_grid, \n",
    "                           scoring=make_scorer(pr_auc), cv=cv, n_jobs=-1,\n",
    "                           verbose=1)\n",
    "\n",
    "# Fit the grid search to the data\n",
    "grid_search.fit(X, y)\n",
    "\n",
    "# Get the best parameters and best score\n",
    "best_params = grid_search.best_params_\n",
    "best_score = grid_search.best_score_\n",
    "\n",
    "# Print the best pr_auc\n",
    "print(\"Best pr_auc:\", best_score)\n",
    "\n",
    "# Create the random forest model with the best parameters\n",
    "best_rf = RandomForestClassifier(**best_params)\n",
    "\n",
    "# Fit the model to the data\n",
    "best_rf.fit(X, y)\n",
    "\n",
    "# Save model\n",
    "joblib.dump(best_rf, 'Models/best_rf_model.pkl')"
   ]
  },
  {
   "cell_type": "markdown",
   "metadata": {},
   "source": [
    "## XGBoost Classifier"
   ]
  },
  {
   "cell_type": "code",
   "execution_count": 32,
   "metadata": {},
   "outputs": [
    {
     "name": "stdout",
     "output_type": "stream",
     "text": [
      "Fitting 30 folds for each of 27 candidates, totalling 810 fits\n",
      "Best PR AUC Score: 0.5321213877178069\n"
     ]
    },
    {
     "data": {
      "text/plain": [
       "['Models/best_xgb_model.pkl']"
      ]
     },
     "execution_count": 32,
     "metadata": {},
     "output_type": "execute_result"
    }
   ],
   "source": [
    "import xgboost as xgb\n",
    "from sklearn.model_selection import GridSearchCV\n",
    "from sklearn.metrics import make_scorer, precision_recall_curve, auc\n",
    "\n",
    "# Define the parameter grid for grid search\n",
    "param_grid = {\n",
    "    'max_depth': [3, 5, 7],\n",
    "    'learning_rate': [0.1, 0.01, 0.001],\n",
    "    'n_estimators': [100, 200, 300]\n",
    "}\n",
    "\n",
    "# Create the XGBoost classifier\n",
    "xgb_clf = xgb.XGBClassifier()\n",
    "\n",
    "# Perform grid search with cross-validation\n",
    "grid_search = GridSearchCV(estimator=xgb_clf, param_grid=param_grid, \n",
    "                           scoring=make_scorer(pr_auc), cv=cv,\n",
    "                           n_jobs=-1, verbose=1)\n",
    "\n",
    "grid_search.fit(X_train, y_train)\n",
    "\n",
    "# Get the best results\n",
    "best_params = grid_search.best_params_\n",
    "best_score = grid_search.best_score_\n",
    "\n",
    "# Print the best results\n",
    "print(\"Best PR AUC Score:\", best_score)\n",
    "\n",
    "# Save the best model\n",
    "best_xgb_model = grid_search.best_estimator_\n",
    "joblib.dump(best_xgb_model, 'Models/best_xgb_model.pkl')"
   ]
  },
  {
   "cell_type": "code",
   "execution_count": null,
   "metadata": {},
   "outputs": [],
   "source": [
    "#Evaluation\n",
    "# Confusion Matrix\n",
    "# Need to ensure a high recall to not let fraudulent transactions go undetected.\n",
    "#potentially area under curve"
   ]
  }
 ],
 "metadata": {
  "kernelspec": {
   "display_name": ".venv",
   "language": "python",
   "name": "python3"
  },
  "language_info": {
   "codemirror_mode": {
    "name": "ipython",
    "version": 3
   },
   "file_extension": ".py",
   "mimetype": "text/x-python",
   "name": "python",
   "nbconvert_exporter": "python",
   "pygments_lexer": "ipython3",
   "version": "3.9.6"
  }
 },
 "nbformat": 4,
 "nbformat_minor": 2
}
