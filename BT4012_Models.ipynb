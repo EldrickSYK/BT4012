{
 "cells": [
  {
   "cell_type": "markdown",
   "metadata": {},
   "source": [
    "# Train Test Split"
   ]
  },
  {
   "cell_type": "code",
   "execution_count": null,
   "metadata": {},
   "outputs": [],
   "source": [
    "# Load intermediate dataset\n",
    "data = pd.read_csv(\"Cleaned data/finalised_data.csv\", index_col=None)"
   ]
  },
  {
   "cell_type": "code",
   "execution_count": null,
   "metadata": {},
   "outputs": [
    {
     "name": "stdout",
     "output_type": "stream",
     "text": [
      "Transaction Amount    73113.509492\n",
      "Quantity                  2.001479\n",
      "Customer Age            100.062697\n",
      "Is Fraudulent             0.047616\n",
      "Account Age Days      11419.962167\n",
      "Transaction Hour         48.664510\n",
      "Age Group                 1.163202\n",
      "ShipBill                  0.090124\n",
      "dtype: float64\n"
     ]
    }
   ],
   "source": [
    "# Feature Selection of Numeric Variables\n",
    "numeric_columns = data.select_dtypes(include=['int64', 'float64'])\n",
    "# Check Variance of Numeric Variables\n",
    "variance = numeric_columns.var()\n",
    "print(variance)"
   ]
  },
  {
   "cell_type": "code",
   "execution_count": null,
   "metadata": {},
   "outputs": [
    {
     "name": "stdout",
     "output_type": "stream",
     "text": [
      "Transaction ID\n",
      "15d2e414-8735-46fc-9e02-80b472b2580f    1\n",
      "a81a89d3-15db-498d-b7a2-715233d5c477    1\n",
      "e7e0aafc-d2f2-418d-9b7f-cc05cb9b2a8b    1\n",
      "89fbc566-0421-4859-be00-a4803d0ed21a    1\n",
      "8406043a-d4e0-463e-8ca4-bc3492c87503    1\n",
      "                                       ..\n",
      "6d036b10-29b9-46db-8024-f0ddb8c357aa    1\n",
      "76fbbad6-34ca-4f1f-a503-dd5013ececab    1\n",
      "59a01e3a-1539-4d17-bd21-adbfcdbeedcd    1\n",
      "96cdb681-8b01-4611-a1a5-28a4fac98af3    1\n",
      "d1a811a2-6015-47fa-95e5-0a5282755932    1\n",
      "Name: count, Length: 1472694, dtype: int64\n",
      "Customer ID\n",
      "d1b87f62-51b2-493b-ad6a-77e0fe13e785    1\n",
      "befaa147-b877-47f3-85a9-1920711f36fe    1\n",
      "4bdf4788-d8b9-4e8f-bb69-b5a068c59f71    1\n",
      "f1e7c30f-d719-4dff-ba6a-4f08fe5d62da    1\n",
      "3407fadb-fd04-4ebe-947f-9e8541bf68eb    1\n",
      "                                       ..\n",
      "b587a76d-5830-4b6f-833b-f7958f8d7647    1\n",
      "7783a7ea-7a52-4c79-893b-2834b19647b9    1\n",
      "1c94d0c8-34bc-4df2-b263-7b1f232601fd    1\n",
      "100fa7e8-8b17-4775-aed0-df01a255ac06    1\n",
      "637d5ed1-a4af-4234-a1d9-a3791b6f1bb6    1\n",
      "Name: count, Length: 1472694, dtype: int64\n",
      "Transaction Date\n",
      "2024-01-27 04:00:16    6\n",
      "2024-01-04 00:52:09    5\n",
      "2024-01-10 09:13:24    5\n",
      "2024-03-15 16:22:08    5\n",
      "2024-01-05 02:14:55    5\n",
      "                      ..\n",
      "2024-02-03 14:37:29    1\n",
      "2024-03-27 14:14:13    1\n",
      "2024-01-22 00:20:25    1\n",
      "2024-01-21 05:16:59    1\n",
      "2024-01-12 16:21:32    1\n",
      "Name: count, Length: 1346471, dtype: int64\n",
      "Payment Method\n",
      "credit card      368361\n",
      "debit card       368217\n",
      "bank transfer    368211\n",
      "PayPal           367905\n",
      "Name: count, dtype: int64\n",
      "Product Category\n",
      "health & beauty    295305\n",
      "electronics        295248\n",
      "clothing           294257\n",
      "toys & games       294226\n",
      "home & garden      293658\n",
      "Name: count, dtype: int64\n",
      "Customer Location\n",
      "New Michael              1258\n",
      "South Michael            1208\n",
      "East Michael             1205\n",
      "Port Michael             1204\n",
      "West Michael             1201\n",
      "                         ... \n",
      "South Duaneshire            1\n",
      "North Robynshire            1\n",
      "Lake Shaunborough           1\n",
      "South Geoffreychester       1\n",
      "South Melvinburgh           1\n",
      "Name: count, Length: 99132, dtype: int64\n",
      "Device Used\n",
      "mobile     491663\n",
      "tablet     490844\n",
      "desktop    490187\n",
      "Name: count, dtype: int64\n",
      "IP Address\n",
      "154.20.167.184     2\n",
      "145.122.241.229    2\n",
      "177.40.144.252     2\n",
      "148.243.160.123    2\n",
      "119.114.224.224    2\n",
      "                  ..\n",
      "149.27.184.235     1\n",
      "218.209.175.72     1\n",
      "114.154.124.161    1\n",
      "108.221.205.85     1\n",
      "107.116.208.218    1\n",
      "Name: count, Length: 1472393, dtype: int64\n",
      "Shipping Address\n",
      "USS Sanchez\\nFPO AE 14652                                 2\n",
      "USCGC Holmes\\nFPO AA 56289                                2\n",
      "USNV Black\\nFPO AP 75390                                  2\n",
      "USCGC Brown\\nFPO AE 16210                                 2\n",
      "8940 King Fork Suite 305\\nWalkerport, OH 92814            1\n",
      "                                                         ..\n",
      "6900 Ashley Mews Suite 227\\nWest Melissa, IL 61995        1\n",
      "2982 Kirby Bypass Apt. 439\\nEast Michaeltown, AS 85276    1\n",
      "37744 Carey Center\\nSouth Barbaraview, FL 27406           1\n",
      "6164 Molly Lodge Apt. 281\\nEast Meghan, NV 82673          1\n",
      "Unit 0520 Box 5911\\nDPO AE 75554                          1\n",
      "Name: count, Length: 1472690, dtype: int64\n",
      "Billing Address\n",
      "USNS Mills\\nFPO AE 77203                                  2\n",
      "USCGC Holmes\\nFPO AA 56289                                2\n",
      "USCGC Brown\\nFPO AE 16210                                 2\n",
      "Unit 8934 Box 0058\\nDPO AA 05437                          1\n",
      "8940 King Fork Suite 305\\nWalkerport, OH 92814            1\n",
      "                                                         ..\n",
      "09638 Romero Underpass Apt. 312\\nPort Tonya, NH 43395     1\n",
      "6900 Ashley Mews Suite 227\\nWest Melissa, IL 61995        1\n",
      "2982 Kirby Bypass Apt. 439\\nEast Michaeltown, AS 85276    1\n",
      "37744 Carey Center\\nSouth Barbaraview, FL 27406           1\n",
      "Unit 0520 Box 5911\\nDPO AE 75554                          1\n",
      "Name: count, Length: 1472691, dtype: int64\n",
      "Age Group\n",
      "36-45       503145\n",
      "26-35       502900\n",
      "46-55       200525\n",
      "18-25       167280\n",
      "1-17         64951\n",
      "56-65        31643\n",
      "66-75         1941\n",
      "-20 to 0       263\n",
      "76-86           45\n",
      "Name: count, dtype: int64\n"
     ]
    }
   ],
   "source": [
    "# Check Variance of Categorical Variables\n",
    "categorical_columns = data.select_dtypes(include=['object'])\n",
    "# Count of Categorical features and remove if lacking variance\n",
    "for column in categorical_columns.columns:\n",
    "    print(categorical_columns[column].value_counts())"
   ]
  },
  {
   "cell_type": "code",
   "execution_count": null,
   "metadata": {},
   "outputs": [],
   "source": [
    "# Remove variables if needed\n",
    "data = data.drop(columns=['Shipping Address', 'Billing Address', 'Transaction ID', 'Customer ID', 'Transaction Date', 'IP Address', 'Customer Location'])"
   ]
  },
  {
   "cell_type": "code",
   "execution_count": null,
   "metadata": {},
   "outputs": [
    {
     "name": "stdout",
     "output_type": "stream",
     "text": [
      "Transaction Amount                  0\n",
      "Quantity                            0\n",
      "Customer Age                        0\n",
      "Is Fraudulent                       0\n",
      "Account Age Days                    0\n",
      "Transaction Hour                    0\n",
      "Age Group                           0\n",
      "addressesMatch                      0\n",
      "isPOBox                             0\n",
      "ShipBill                            0\n",
      "Payment Method_PayPal               0\n",
      "Payment Method_bank transfer        0\n",
      "Payment Method_credit card          0\n",
      "Payment Method_debit card           0\n",
      "Product Category_clothing           0\n",
      "Product Category_electronics        0\n",
      "Product Category_health & beauty    0\n",
      "Product Category_home & garden      0\n",
      "Product Category_toys & games       0\n",
      "Device Used_desktop                 0\n",
      "Device Used_mobile                  0\n",
      "Device Used_tablet                  0\n",
      "dtype: int64\n"
     ]
    }
   ],
   "source": [
    "print(data.isnull().sum())"
   ]
  },
  {
   "cell_type": "code",
   "execution_count": null,
   "metadata": {},
   "outputs": [],
   "source": [
    "# Train test split\n",
    "X = data.loc[:, data.columns != 'Is Fraudulent']\n",
    "y = data[\"Is Fraudulent\"]\n",
    "X_train, X_test, y_train, y_test = train_test_split(X, y, test_size=0.2, random_state=0)\n"
   ]
  },
  {
   "cell_type": "markdown",
   "metadata": {},
   "source": [
    "# Model Creation and Evaluation\n"
   ]
  },
  {
   "cell_type": "code",
   "execution_count": null,
   "metadata": {},
   "outputs": [],
   "source": [
    "from numpy import mean, std\n",
    "from sklearn.model_selection import cross_val_score, RepeatedStratifiedKFold, cross_validate\n",
    "from sklearn.metrics import precision_recall_curve, auc, make_scorer\n",
    "\n",
    "# Create AUC eval function\n",
    "def pr_auc(y_true, probas_pred):\n",
    "    # calculate precision-recall curve\n",
    "    p, r, _ = precision_recall_curve(y_true, probas_pred)\n",
    "    # calculate area under curve\n",
    "    return auc(r, p)"
   ]
  },
  {
   "cell_type": "code",
   "execution_count": null,
   "metadata": {},
   "outputs": [],
   "source": [
    "# Create model evaluation function\n",
    "def evaluate_model(X, y, model):\n",
    "\n",
    "    # define evaluation procedure\n",
    "    cv = RepeatedStratifiedKFold(n_splits=10, n_repeats=3, random_state=1)\n",
    "    # define the model evaluation the metric\n",
    "    metric = make_scorer(pr_auc, needs_proba=True)\n",
    "\n",
    "    # evaluate model\n",
    "    #scores = cross_val_score(model, X, y, scoring=metric, cv=cv, n_jobs=-1)\n",
    "\n",
    "    # Perform cross-validation\n",
    "    results = cross_validate(model, X, y, scoring=metric, cv=cv, return_train_score=False, return_estimator=True)\n",
    "\n",
    "    # Extract scores and trained models\n",
    "    scores = results['test_score']\n",
    "    trained_model = results['estimator']\n",
    "    return scores, trained_model"
   ]
  },
  {
   "cell_type": "code",
   "execution_count": null,
   "metadata": {},
   "outputs": [],
   "source": [
    "from sklearn.preprocessing import StandardScaler\n",
    "from sklearn.pipeline import Pipeline\n",
    "from sklearn.linear_model import SGDClassifier\n",
    "from sklearn.tree import DecisionTreeClassifier\n",
    "from sklearn.neighbors import KNeighborsClassifier\n",
    "from sklearn.ensemble import RandomForestClassifier, ExtraTreesClassifier, BaggingClassifier\n",
    "\n",
    "# Define models\n",
    "def get_models():\n",
    "    models, names = list(), list()\n",
    "    #Logistic\n",
    "    models.append(SGDClassifier(loss='log_loss', penalty='l2', alpha=0.0001, fit_intercept=True, max_iter=1000, tol=0.001, shuffle=True, random_state=None, learning_rate='optimal',early_stopping=False, n_iter_no_change=5, class_weight=None, warm_start=False, average=False))\n",
    "    names.append('Logistic')\n",
    "\n",
    "    # CART\n",
    "    models.append(DecisionTreeClassifier())\n",
    "    names.append('CART')\n",
    "    # KNN\n",
    "    steps = [('s',StandardScaler()),('m',KNeighborsClassifier())]\n",
    "    models.append(Pipeline(steps=steps))\n",
    "    names.append('KNN')\n",
    "    # Bagging\n",
    "    models.append(BaggingClassifier(n_estimators=100))\n",
    "    names.append('BAG')\n",
    "    # RF\n",
    "    models.append(RandomForestClassifier(n_estimators=100))\n",
    "    names.append('RF')\n",
    "\n",
    "    # ET\n",
    "    models.append(ExtraTreesClassifier(n_estimators=100))\n",
    "    names.append('ET')\n",
    "    return models, names"
   ]
  },
  {
   "cell_type": "code",
   "execution_count": null,
   "metadata": {},
   "outputs": [
    {
     "name": "stderr",
     "output_type": "stream",
     "text": [
      "/usr/local/lib/python3.10/dist-packages/sklearn/metrics/_scorer.py:610: FutureWarning: The `needs_threshold` and `needs_proba` parameter are deprecated in version 1.4 and will be removed in 1.6. You can either let `response_method` be `None` or set it to `predict` to preserve the same behaviour.\n",
      "  warnings.warn(\n"
     ]
    },
    {
     "name": "stdout",
     "output_type": "stream",
     "text": [
      ">Logistic 0.170 (0.104)\n"
     ]
    },
    {
     "name": "stderr",
     "output_type": "stream",
     "text": [
      "/usr/local/lib/python3.10/dist-packages/sklearn/metrics/_scorer.py:610: FutureWarning: The `needs_threshold` and `needs_proba` parameter are deprecated in version 1.4 and will be removed in 1.6. You can either let `response_method` be `None` or set it to `predict` to preserve the same behaviour.\n",
      "  warnings.warn(\n"
     ]
    },
    {
     "name": "stdout",
     "output_type": "stream",
     "text": [
      ">CART 0.252 (0.005)\n"
     ]
    },
    {
     "name": "stderr",
     "output_type": "stream",
     "text": [
      "/usr/local/lib/python3.10/dist-packages/sklearn/metrics/_scorer.py:610: FutureWarning: The `needs_threshold` and `needs_proba` parameter are deprecated in version 1.4 and will be removed in 1.6. You can either let `response_method` be `None` or set it to `predict` to preserve the same behaviour.\n",
      "  warnings.warn(\n"
     ]
    }
   ],
   "source": [
    "# Instantiate models\n",
    "models, names = get_models()\n",
    "trained_models, results = list(), list()\n",
    "# evaluate each model\n",
    "for i in range(len(models)):\n",
    "    # Evaluate models\n",
    "    scores, trained_model = evaluate_model(X, y, models[i])\n",
    "    results.append(scores)\n",
    "    trained_models.append((names[i], trained_model))\n",
    "    # Attain performance results\n",
    "    print('>%s %.3f (%.3f)' % (names[i], mean(scores), std(scores)))"
   ]
  },
  {
   "cell_type": "code",
   "execution_count": null,
   "metadata": {},
   "outputs": [],
   "source": [
    "#Evaluation\n",
    "# Confusion Matrix\n",
    "# Need to ensure a high recall to not let fraudulent transactions go undetected.\n",
    "#potentially area under curve"
   ]
  }
 ],
 "metadata": {
  "kernelspec": {
   "display_name": ".venv",
   "language": "python",
   "name": "python3"
  },
  "language_info": {
   "name": "python",
   "version": "3.9.6"
  }
 },
 "nbformat": 4,
 "nbformat_minor": 2
}
