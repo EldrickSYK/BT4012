{
 "cells": [
  {
   "cell_type": "markdown",
   "metadata": {
    "id": "qCKDa6EyZLWE"
   },
   "source": [
    "# BT4012 Project"
   ]
  },
  {
   "cell_type": "markdown",
   "metadata": {
    "id": "DMC71pYOSYjr"
   },
   "source": [
    "## Feature Details\n",
    "\n",
    "**Transaction ID:** A unique identifier for each transaction.\n",
    "\n",
    "**Customer ID:** A unique identifier for each customer.\n",
    "\n",
    "**Transaction Amount:** The total amount of money exchanged in the transaction.\n",
    "\n",
    "**Transaction Date:** The date and time when the transaction took place.\n",
    "\n",
    "**Payment Method:** The method used to complete the transaction (e.g., credit card, PayPal, etc.).\n",
    "\n",
    "**Product Category:** The category of the product involved in the transaction.\n",
    "\n",
    "**Quantity:** The number of products involved in the transaction.\n",
    "\n",
    "**Customer Age:** The age of the customer making the transaction.\n",
    "\n",
    "**Customer Location:** The geographical location of the customer.\n",
    "\n",
    "**Device Used:** The type of device used to make the transaction (e.g., mobile, desktop).\n",
    "\n",
    "**IP Address:** The IP address of the device used for the transaction.\n",
    "\n",
    "**Shipping Address:** The address where the product was shipped.\n",
    "\n",
    "**Billing Address:** The address associated with the payment method.\n",
    "\n",
    "**Is Fraudulent:** A binary indicator of whether the transaction is fraudulent (1 for fraudulent, 0 for legitimate).\n",
    "\n",
    "**Account Age Days:** The age of the customer's account in days at the time of the transaction.\n",
    "\n",
    "**Transaction Hour:** The hour of the day when the transaction occurred.\n"
   ]
  },
  {
   "cell_type": "markdown",
   "metadata": {
    "id": "RgS_J4m1LGxa"
   },
   "source": [
    "# Setup Environment"
   ]
  },
  {
   "cell_type": "code",
   "execution_count": 78,
   "metadata": {
    "colab": {
     "base_uri": "https://localhost:8080/"
    },
    "executionInfo": {
     "elapsed": 23256,
     "status": "ok",
     "timestamp": 1732117010354,
     "user": {
      "displayName": "Brian Long",
      "userId": "09814485269251064880"
     },
     "user_tz": -480
    },
    "id": "rhJbToDddsry",
    "outputId": "a19cea59-a19c-4c1d-fb43-8c0c6990fa34"
   },
   "outputs": [],
   "source": [
    "# from google.colab import drive\n",
    "# drive.mount('/content/drive')"
   ]
  },
  {
   "cell_type": "code",
   "execution_count": 79,
   "metadata": {
    "colab": {
     "base_uri": "https://localhost:8080/"
    },
    "executionInfo": {
     "elapsed": 5,
     "status": "ok",
     "timestamp": 1732117010355,
     "user": {
      "displayName": "Brian Long",
      "userId": "09814485269251064880"
     },
     "user_tz": -480
    },
    "id": "MzMv1BdtXiuI",
    "outputId": "9e5690f4-a306-4bfd-8ab7-778a0c173f42"
   },
   "outputs": [],
   "source": [
    "# # Change your path accordingly\n",
    "# %cd 'drive/My Drive/BT4012 Project'"
   ]
  },
  {
   "cell_type": "markdown",
   "metadata": {
    "id": "iuvmTdt_bV4e"
   },
   "source": [
    "## Load Imports"
   ]
  },
  {
   "cell_type": "code",
   "execution_count": 80,
   "metadata": {
    "executionInfo": {
     "elapsed": 458,
     "status": "ok",
     "timestamp": 1732117015320,
     "user": {
      "displayName": "Brian Long",
      "userId": "09814485269251064880"
     },
     "user_tz": -480
    },
    "id": "V2XpM3rtbUbg"
   },
   "outputs": [],
   "source": [
    "import pandas as pd\n",
    "import matplotlib.pyplot as plt\n",
    "import seaborn as sns\n",
    "import requests\n",
    "from dateutil.relativedelta import relativedelta\n",
    "\n",
    "preprocessed_data_filepath = \"./Preprocessed data/\""
   ]
  },
  {
   "cell_type": "markdown",
   "metadata": {
    "id": "kLy8lr32blGK"
   },
   "source": [
    "## Load Data"
   ]
  },
  {
   "cell_type": "code",
   "execution_count": 81,
   "metadata": {
    "id": "BaPoER03ZE3N"
   },
   "outputs": [],
   "source": [
    "df = pd.read_csv(preprocessed_data_filepath + \"Fraudulent_E-Commerce_Transaction_Data.csv\")"
   ]
  },
  {
   "cell_type": "markdown",
   "metadata": {
    "id": "KgKdeJnxLSHA"
   },
   "source": [
    "# Exploratory Data Analysis"
   ]
  },
  {
   "cell_type": "code",
   "execution_count": 82,
   "metadata": {
    "colab": {
     "base_uri": "https://localhost:8080/"
    },
    "executionInfo": {
     "elapsed": 3,
     "status": "ok",
     "timestamp": 1732089551323,
     "user": {
      "displayName": "Brian Long",
      "userId": "09814485269251064880"
     },
     "user_tz": -480
    },
    "id": "8l4G4_skMI1p",
    "outputId": "78bb84b6-d79a-4989-9e85-14ce238b787b"
   },
   "outputs": [
    {
     "name": "stdout",
     "output_type": "stream",
     "text": [
      "['Transaction ID', 'Customer ID', 'Transaction Amount', 'Transaction Date', 'Payment Method', 'Product Category', 'Quantity', 'Customer Age', 'Customer Location', 'Device Used', 'IP Address', 'Shipping Address', 'Billing Address', 'Is Fraudulent', 'Account Age Days', 'Transaction Hour']\n"
     ]
    }
   ],
   "source": [
    "# Display column names\n",
    "print(df.columns.tolist())"
   ]
  },
  {
   "cell_type": "code",
   "execution_count": 83,
   "metadata": {
    "colab": {
     "base_uri": "https://localhost:8080/"
    },
    "executionInfo": {
     "elapsed": 330,
     "status": "ok",
     "timestamp": 1732089551651,
     "user": {
      "displayName": "Brian Long",
      "userId": "09814485269251064880"
     },
     "user_tz": -480
    },
    "id": "nrz2WtnEKV22",
    "outputId": "c2d9641e-57e3-4c3e-f6de-d9ec5daf15b2"
   },
   "outputs": [
    {
     "data": {
      "text/html": [
       "<div>\n",
       "<style scoped>\n",
       "    .dataframe tbody tr th:only-of-type {\n",
       "        vertical-align: middle;\n",
       "    }\n",
       "\n",
       "    .dataframe tbody tr th {\n",
       "        vertical-align: top;\n",
       "    }\n",
       "\n",
       "    .dataframe thead th {\n",
       "        text-align: right;\n",
       "    }\n",
       "</style>\n",
       "<table border=\"1\" class=\"dataframe\">\n",
       "  <thead>\n",
       "    <tr style=\"text-align: right;\">\n",
       "      <th></th>\n",
       "      <th>Transaction ID</th>\n",
       "      <th>Customer ID</th>\n",
       "      <th>Transaction Amount</th>\n",
       "      <th>Transaction Date</th>\n",
       "      <th>Payment Method</th>\n",
       "      <th>Product Category</th>\n",
       "      <th>Quantity</th>\n",
       "      <th>Customer Age</th>\n",
       "      <th>Customer Location</th>\n",
       "      <th>Device Used</th>\n",
       "      <th>IP Address</th>\n",
       "      <th>Shipping Address</th>\n",
       "      <th>Billing Address</th>\n",
       "      <th>Is Fraudulent</th>\n",
       "      <th>Account Age Days</th>\n",
       "      <th>Transaction Hour</th>\n",
       "    </tr>\n",
       "  </thead>\n",
       "  <tbody>\n",
       "    <tr>\n",
       "      <th>0</th>\n",
       "      <td>c12e07a0-8a06-4c0d-b5cc-04f3af688570</td>\n",
       "      <td>8ca9f102-02a4-4207-ab63-484e83a1bdf0</td>\n",
       "      <td>42.32</td>\n",
       "      <td>2024-03-24 23:42:43</td>\n",
       "      <td>PayPal</td>\n",
       "      <td>electronics</td>\n",
       "      <td>1</td>\n",
       "      <td>40</td>\n",
       "      <td>East Jameshaven</td>\n",
       "      <td>desktop</td>\n",
       "      <td>110.87.246.85</td>\n",
       "      <td>5399 Rachel Stravenue Suite 718\\nNorth Blakebu...</td>\n",
       "      <td>5399 Rachel Stravenue Suite 718\\nNorth Blakebu...</td>\n",
       "      <td>0</td>\n",
       "      <td>282</td>\n",
       "      <td>23</td>\n",
       "    </tr>\n",
       "    <tr>\n",
       "      <th>1</th>\n",
       "      <td>7d187603-7961-4fce-9827-9698e2b6a201</td>\n",
       "      <td>4d158416-caae-4b09-bd5b-15235deb9129</td>\n",
       "      <td>301.34</td>\n",
       "      <td>2024-01-22 00:53:31</td>\n",
       "      <td>credit card</td>\n",
       "      <td>electronics</td>\n",
       "      <td>3</td>\n",
       "      <td>35</td>\n",
       "      <td>Kingstad</td>\n",
       "      <td>tablet</td>\n",
       "      <td>14.73.104.153</td>\n",
       "      <td>5230 Stephanie Forge\\nCollinsbury, PR 81853</td>\n",
       "      <td>5230 Stephanie Forge\\nCollinsbury, PR 81853</td>\n",
       "      <td>0</td>\n",
       "      <td>223</td>\n",
       "      <td>0</td>\n",
       "    </tr>\n",
       "    <tr>\n",
       "      <th>2</th>\n",
       "      <td>f2c14f9d-92df-4aaf-8931-ceaf4e63ed72</td>\n",
       "      <td>ccae47b8-75c7-4f5a-aa9e-957deced2137</td>\n",
       "      <td>340.32</td>\n",
       "      <td>2024-01-22 08:06:03</td>\n",
       "      <td>debit card</td>\n",
       "      <td>toys &amp; games</td>\n",
       "      <td>5</td>\n",
       "      <td>29</td>\n",
       "      <td>North Ryan</td>\n",
       "      <td>desktop</td>\n",
       "      <td>67.58.94.93</td>\n",
       "      <td>195 Cole Oval\\nPort Larry, IA 58422</td>\n",
       "      <td>4772 David Stravenue Apt. 447\\nVelasquezside, ...</td>\n",
       "      <td>0</td>\n",
       "      <td>360</td>\n",
       "      <td>8</td>\n",
       "    </tr>\n",
       "    <tr>\n",
       "      <th>3</th>\n",
       "      <td>e9949bfa-194d-486b-84da-9565fca9e5ce</td>\n",
       "      <td>b04960c0-aeee-4907-b1cd-4819016adcef</td>\n",
       "      <td>95.77</td>\n",
       "      <td>2024-01-16 20:34:53</td>\n",
       "      <td>credit card</td>\n",
       "      <td>electronics</td>\n",
       "      <td>5</td>\n",
       "      <td>45</td>\n",
       "      <td>Kaylaville</td>\n",
       "      <td>mobile</td>\n",
       "      <td>202.122.126.216</td>\n",
       "      <td>7609 Cynthia Square\\nWest Brenda, NV 23016</td>\n",
       "      <td>7609 Cynthia Square\\nWest Brenda, NV 23016</td>\n",
       "      <td>0</td>\n",
       "      <td>325</td>\n",
       "      <td>20</td>\n",
       "    </tr>\n",
       "    <tr>\n",
       "      <th>4</th>\n",
       "      <td>7362837c-7538-434e-8731-0df713f5f26d</td>\n",
       "      <td>de9d6351-b3a7-4bc7-9a55-8f013eb66928</td>\n",
       "      <td>77.45</td>\n",
       "      <td>2024-01-16 15:47:23</td>\n",
       "      <td>credit card</td>\n",
       "      <td>clothing</td>\n",
       "      <td>5</td>\n",
       "      <td>42</td>\n",
       "      <td>North Edwardborough</td>\n",
       "      <td>desktop</td>\n",
       "      <td>96.77.232.76</td>\n",
       "      <td>2494 Robert Ramp Suite 313\\nRobinsonport, AS 5...</td>\n",
       "      <td>2494 Robert Ramp Suite 313\\nRobinsonport, AS 5...</td>\n",
       "      <td>0</td>\n",
       "      <td>116</td>\n",
       "      <td>15</td>\n",
       "    </tr>\n",
       "    <tr>\n",
       "      <th>5</th>\n",
       "      <td>5da506fe-d4df-474a-b773-146333f06cfe</td>\n",
       "      <td>03033baf-2bcc-4608-b5b8-9c86976f4948</td>\n",
       "      <td>345.27</td>\n",
       "      <td>2024-02-22 13:49:27</td>\n",
       "      <td>PayPal</td>\n",
       "      <td>toys &amp; games</td>\n",
       "      <td>1</td>\n",
       "      <td>9</td>\n",
       "      <td>Johnsonmouth</td>\n",
       "      <td>desktop</td>\n",
       "      <td>158.48.161.135</td>\n",
       "      <td>PSC 3832, Box 5265\\nAPO AE 85694</td>\n",
       "      <td>PSC 3832, Box 5265\\nAPO AE 85694</td>\n",
       "      <td>0</td>\n",
       "      <td>251</td>\n",
       "      <td>13</td>\n",
       "    </tr>\n",
       "    <tr>\n",
       "      <th>6</th>\n",
       "      <td>47b35c5d-d4c9-4a7d-a354-cd41596abf67</td>\n",
       "      <td>6a5305a3-b47c-4bdb-91d7-3bf126530e01</td>\n",
       "      <td>53.69</td>\n",
       "      <td>2024-03-21 13:42:10</td>\n",
       "      <td>debit card</td>\n",
       "      <td>toys &amp; games</td>\n",
       "      <td>3</td>\n",
       "      <td>41</td>\n",
       "      <td>New Brendamouth</td>\n",
       "      <td>mobile</td>\n",
       "      <td>93.54.173.138</td>\n",
       "      <td>272 Tammy Isle Apt. 969\\nNorth Michaelmouth, M...</td>\n",
       "      <td>272 Tammy Isle Apt. 969\\nNorth Michaelmouth, M...</td>\n",
       "      <td>0</td>\n",
       "      <td>138</td>\n",
       "      <td>13</td>\n",
       "    </tr>\n",
       "    <tr>\n",
       "      <th>7</th>\n",
       "      <td>bf3db41c-25a9-4e6d-b87f-13e5fabe35dd</td>\n",
       "      <td>7300dcf3-df6f-439f-ba13-a98f18b972f3</td>\n",
       "      <td>680.17</td>\n",
       "      <td>2024-01-18 23:25:10</td>\n",
       "      <td>debit card</td>\n",
       "      <td>electronics</td>\n",
       "      <td>5</td>\n",
       "      <td>39</td>\n",
       "      <td>South Tracy</td>\n",
       "      <td>tablet</td>\n",
       "      <td>61.52.160.51</td>\n",
       "      <td>30470 Amanda Causeway Suite 446\\nLake Ashleyla...</td>\n",
       "      <td>30470 Amanda Causeway Suite 446\\nLake Ashleyla...</td>\n",
       "      <td>0</td>\n",
       "      <td>36</td>\n",
       "      <td>23</td>\n",
       "    </tr>\n",
       "    <tr>\n",
       "      <th>8</th>\n",
       "      <td>8ec806af-c367-4dd0-8218-25d3c8c7a346</td>\n",
       "      <td>25c48d47-879f-49b3-b0cc-a7393c28f8af</td>\n",
       "      <td>126.50</td>\n",
       "      <td>2024-02-12 04:01:09</td>\n",
       "      <td>debit card</td>\n",
       "      <td>home &amp; garden</td>\n",
       "      <td>4</td>\n",
       "      <td>35</td>\n",
       "      <td>West Henry</td>\n",
       "      <td>mobile</td>\n",
       "      <td>6.59.118.143</td>\n",
       "      <td>179 Amy Roads\\nRyanland, OH 38054</td>\n",
       "      <td>179 Amy Roads\\nRyanland, OH 38054</td>\n",
       "      <td>0</td>\n",
       "      <td>188</td>\n",
       "      <td>4</td>\n",
       "    </tr>\n",
       "    <tr>\n",
       "      <th>9</th>\n",
       "      <td>3b51c8cd-e0d7-48ba-894f-8f77b2cf2f43</td>\n",
       "      <td>41803857-0031-499c-bcaf-bca4e4ef4620</td>\n",
       "      <td>47.18</td>\n",
       "      <td>2024-04-06 22:52:33</td>\n",
       "      <td>bank transfer</td>\n",
       "      <td>toys &amp; games</td>\n",
       "      <td>4</td>\n",
       "      <td>19</td>\n",
       "      <td>Taylorside</td>\n",
       "      <td>mobile</td>\n",
       "      <td>17.185.69.10</td>\n",
       "      <td>34828 Ronald Oval Suite 620\\nNew Samuelmouth, ...</td>\n",
       "      <td>34828 Ronald Oval Suite 620\\nNew Samuelmouth, ...</td>\n",
       "      <td>0</td>\n",
       "      <td>245</td>\n",
       "      <td>22</td>\n",
       "    </tr>\n",
       "  </tbody>\n",
       "</table>\n",
       "</div>"
      ],
      "text/plain": [
       "                         Transaction ID                           Customer ID  \\\n",
       "0  c12e07a0-8a06-4c0d-b5cc-04f3af688570  8ca9f102-02a4-4207-ab63-484e83a1bdf0   \n",
       "1  7d187603-7961-4fce-9827-9698e2b6a201  4d158416-caae-4b09-bd5b-15235deb9129   \n",
       "2  f2c14f9d-92df-4aaf-8931-ceaf4e63ed72  ccae47b8-75c7-4f5a-aa9e-957deced2137   \n",
       "3  e9949bfa-194d-486b-84da-9565fca9e5ce  b04960c0-aeee-4907-b1cd-4819016adcef   \n",
       "4  7362837c-7538-434e-8731-0df713f5f26d  de9d6351-b3a7-4bc7-9a55-8f013eb66928   \n",
       "5  5da506fe-d4df-474a-b773-146333f06cfe  03033baf-2bcc-4608-b5b8-9c86976f4948   \n",
       "6  47b35c5d-d4c9-4a7d-a354-cd41596abf67  6a5305a3-b47c-4bdb-91d7-3bf126530e01   \n",
       "7  bf3db41c-25a9-4e6d-b87f-13e5fabe35dd  7300dcf3-df6f-439f-ba13-a98f18b972f3   \n",
       "8  8ec806af-c367-4dd0-8218-25d3c8c7a346  25c48d47-879f-49b3-b0cc-a7393c28f8af   \n",
       "9  3b51c8cd-e0d7-48ba-894f-8f77b2cf2f43  41803857-0031-499c-bcaf-bca4e4ef4620   \n",
       "\n",
       "   Transaction Amount     Transaction Date Payment Method Product Category  \\\n",
       "0               42.32  2024-03-24 23:42:43         PayPal      electronics   \n",
       "1              301.34  2024-01-22 00:53:31    credit card      electronics   \n",
       "2              340.32  2024-01-22 08:06:03     debit card     toys & games   \n",
       "3               95.77  2024-01-16 20:34:53    credit card      electronics   \n",
       "4               77.45  2024-01-16 15:47:23    credit card         clothing   \n",
       "5              345.27  2024-02-22 13:49:27         PayPal     toys & games   \n",
       "6               53.69  2024-03-21 13:42:10     debit card     toys & games   \n",
       "7              680.17  2024-01-18 23:25:10     debit card      electronics   \n",
       "8              126.50  2024-02-12 04:01:09     debit card    home & garden   \n",
       "9               47.18  2024-04-06 22:52:33  bank transfer     toys & games   \n",
       "\n",
       "   Quantity  Customer Age    Customer Location Device Used       IP Address  \\\n",
       "0         1            40      East Jameshaven     desktop    110.87.246.85   \n",
       "1         3            35             Kingstad      tablet    14.73.104.153   \n",
       "2         5            29           North Ryan     desktop      67.58.94.93   \n",
       "3         5            45           Kaylaville      mobile  202.122.126.216   \n",
       "4         5            42  North Edwardborough     desktop     96.77.232.76   \n",
       "5         1             9         Johnsonmouth     desktop   158.48.161.135   \n",
       "6         3            41      New Brendamouth      mobile    93.54.173.138   \n",
       "7         5            39          South Tracy      tablet     61.52.160.51   \n",
       "8         4            35           West Henry      mobile     6.59.118.143   \n",
       "9         4            19           Taylorside      mobile     17.185.69.10   \n",
       "\n",
       "                                    Shipping Address  \\\n",
       "0  5399 Rachel Stravenue Suite 718\\nNorth Blakebu...   \n",
       "1        5230 Stephanie Forge\\nCollinsbury, PR 81853   \n",
       "2                195 Cole Oval\\nPort Larry, IA 58422   \n",
       "3         7609 Cynthia Square\\nWest Brenda, NV 23016   \n",
       "4  2494 Robert Ramp Suite 313\\nRobinsonport, AS 5...   \n",
       "5                   PSC 3832, Box 5265\\nAPO AE 85694   \n",
       "6  272 Tammy Isle Apt. 969\\nNorth Michaelmouth, M...   \n",
       "7  30470 Amanda Causeway Suite 446\\nLake Ashleyla...   \n",
       "8                  179 Amy Roads\\nRyanland, OH 38054   \n",
       "9  34828 Ronald Oval Suite 620\\nNew Samuelmouth, ...   \n",
       "\n",
       "                                     Billing Address  Is Fraudulent  \\\n",
       "0  5399 Rachel Stravenue Suite 718\\nNorth Blakebu...              0   \n",
       "1        5230 Stephanie Forge\\nCollinsbury, PR 81853              0   \n",
       "2  4772 David Stravenue Apt. 447\\nVelasquezside, ...              0   \n",
       "3         7609 Cynthia Square\\nWest Brenda, NV 23016              0   \n",
       "4  2494 Robert Ramp Suite 313\\nRobinsonport, AS 5...              0   \n",
       "5                   PSC 3832, Box 5265\\nAPO AE 85694              0   \n",
       "6  272 Tammy Isle Apt. 969\\nNorth Michaelmouth, M...              0   \n",
       "7  30470 Amanda Causeway Suite 446\\nLake Ashleyla...              0   \n",
       "8                  179 Amy Roads\\nRyanland, OH 38054              0   \n",
       "9  34828 Ronald Oval Suite 620\\nNew Samuelmouth, ...              0   \n",
       "\n",
       "   Account Age Days  Transaction Hour  \n",
       "0               282                23  \n",
       "1               223                 0  \n",
       "2               360                 8  \n",
       "3               325                20  \n",
       "4               116                15  \n",
       "5               251                13  \n",
       "6               138                13  \n",
       "7                36                23  \n",
       "8               188                 4  \n",
       "9               245                22  "
      ]
     },
     "execution_count": 83,
     "metadata": {},
     "output_type": "execute_result"
    }
   ],
   "source": [
    "# Display the first few rows\n",
    "df.head(10)"
   ]
  },
  {
   "cell_type": "code",
   "execution_count": 84,
   "metadata": {
    "colab": {
     "base_uri": "https://localhost:8080/"
    },
    "executionInfo": {
     "elapsed": 4,
     "status": "ok",
     "timestamp": 1732089551651,
     "user": {
      "displayName": "Brian Long",
      "userId": "09814485269251064880"
     },
     "user_tz": -480
    },
    "id": "J1-5se26KVt_",
    "outputId": "b8543a82-3ad4-4c88-8779-74fdc451224f"
   },
   "outputs": [
    {
     "name": "stdout",
     "output_type": "stream",
     "text": [
      "<class 'pandas.core.frame.DataFrame'>\n",
      "RangeIndex: 23634 entries, 0 to 23633\n",
      "Data columns (total 16 columns):\n",
      " #   Column              Non-Null Count  Dtype  \n",
      "---  ------              --------------  -----  \n",
      " 0   Transaction ID      23634 non-null  object \n",
      " 1   Customer ID         23634 non-null  object \n",
      " 2   Transaction Amount  23634 non-null  float64\n",
      " 3   Transaction Date    23634 non-null  object \n",
      " 4   Payment Method      23634 non-null  object \n",
      " 5   Product Category    23634 non-null  object \n",
      " 6   Quantity            23634 non-null  int64  \n",
      " 7   Customer Age        23634 non-null  int64  \n",
      " 8   Customer Location   23634 non-null  object \n",
      " 9   Device Used         23634 non-null  object \n",
      " 10  IP Address          23634 non-null  object \n",
      " 11  Shipping Address    23634 non-null  object \n",
      " 12  Billing Address     23634 non-null  object \n",
      " 13  Is Fraudulent       23634 non-null  int64  \n",
      " 14  Account Age Days    23634 non-null  int64  \n",
      " 15  Transaction Hour    23634 non-null  int64  \n",
      "dtypes: float64(1), int64(5), object(10)\n",
      "memory usage: 2.9+ MB\n"
     ]
    },
    {
     "data": {
      "text/plain": [
       "Transaction ID        0\n",
       "Customer ID           0\n",
       "Transaction Amount    0\n",
       "Transaction Date      0\n",
       "Payment Method        0\n",
       "Product Category      0\n",
       "Quantity              0\n",
       "Customer Age          0\n",
       "Customer Location     0\n",
       "Device Used           0\n",
       "IP Address            0\n",
       "Shipping Address      0\n",
       "Billing Address       0\n",
       "Is Fraudulent         0\n",
       "Account Age Days      0\n",
       "Transaction Hour      0\n",
       "dtype: int64"
      ]
     },
     "execution_count": 84,
     "metadata": {},
     "output_type": "execute_result"
    }
   ],
   "source": [
    "# Check for missing/null values\n",
    "df.info()\n",
    "df.isnull().sum()"
   ]
  },
  {
   "cell_type": "code",
   "execution_count": 85,
   "metadata": {},
   "outputs": [
    {
     "name": "stdout",
     "output_type": "stream",
     "text": [
      "Earliest Transaction: 2024-01-01 00:01:19\n",
      "Latest Transaction: 2024-04-07 08:54:03\n",
      "Duration: 3 months and 6 days\n"
     ]
    }
   ],
   "source": [
    "print(f\"\"\"Earliest Transaction: {df['Transaction Date'].min()}\"\"\")\n",
    "print(f\"\"\"Latest Transaction: {df['Transaction Date'].max()}\"\"\")\n",
    "difference = relativedelta(pd.to_datetime(df['Transaction Date'].max()),pd.to_datetime(df['Transaction Date'].min()))\n",
    "print(f\"Duration: {difference.months} months and {difference.days} days\")"
   ]
  },
  {
   "cell_type": "code",
   "execution_count": 86,
   "metadata": {
    "id": "diThQNUFsa81"
   },
   "outputs": [
    {
     "data": {
      "image/png": "[encoded data removed]",
      "text/plain": [
       "<Figure size 640x480 with 1 Axes>"
      ]
     },
     "metadata": {},
     "output_type": "display_data"
    },
    {
     "data": {
      "text/plain": [
       "count    23634.0\n",
       "mean         1.0\n",
       "std          0.0\n",
       "min          1.0\n",
       "25%          1.0\n",
       "50%          1.0\n",
       "75%          1.0\n",
       "max          1.0\n",
       "Name: Transaction Count, dtype: float64"
      ]
     },
     "execution_count": 86,
     "metadata": {},
     "output_type": "execute_result"
    }
   ],
   "source": [
    "# Group by customer ID to see number of transactions per customer ID\n",
    "customer_transaction_counts = df.groupby('Customer ID').size().reset_index(name='Transaction Count')\n",
    "customer_transaction_counts = customer_transaction_counts.sort_values(by='Transaction Count', ascending=False)\n",
    "plt.hist(customer_transaction_counts['Transaction Count'], bins=20, edgecolor='k')\n",
    "plt.xlabel('Number of Transactions')\n",
    "plt.ylabel('Number of Customers')\n",
    "plt.title('Distribution of Transactions per Customer')\n",
    "plt.show()\n",
    "single_transaction_customers = customer_transaction_counts[customer_transaction_counts['Transaction Count'] == 1]\n",
    "customer_transaction_counts['Transaction Count'].describe()"
   ]
  },
  {
   "cell_type": "code",
   "execution_count": 87,
   "metadata": {
    "colab": {
     "base_uri": "https://localhost:8080/"
    },
    "executionInfo": {
     "elapsed": 364,
     "status": "ok",
     "timestamp": 1732089552012,
     "user": {
      "displayName": "Brian Long",
      "userId": "09814485269251064880"
     },
     "user_tz": -480
    },
    "id": "LLSClWz7vGkA",
    "outputId": "ab53e7a7-dcda-4fcf-8d7c-521a869cb6b8"
   },
   "outputs": [
    {
     "data": {
      "image/png": "[encoded data removed]",
      "text/plain": [
       "<Figure size 640x480 with 1 Axes>"
      ]
     },
     "metadata": {},
     "output_type": "display_data"
    }
   ],
   "source": [
    "# Distribution of Transaction Amounts\n",
    "plt.hist(df['Transaction Amount'], bins=30, edgecolor='k')\n",
    "plt.xlabel('Transaction Amount ($)')\n",
    "plt.ylabel('Frequency')\n",
    "plt.title('Distribution of Transaction Amounts')\n",
    "plt.show()"
   ]
  },
  {
   "cell_type": "code",
   "execution_count": 88,
   "metadata": {
    "colab": {
     "base_uri": "https://localhost:8080/"
    },
    "executionInfo": {
     "elapsed": 417,
     "status": "ok",
     "timestamp": 1732089552426,
     "user": {
      "displayName": "Brian Long",
      "userId": "09814485269251064880"
     },
     "user_tz": -480
    },
    "id": "TtgjbhSkvOvq",
    "outputId": "7e6a6bc8-9f4d-4962-a22d-558432fce2d2"
   },
   "outputs": [
    {
     "data": {
      "image/png": "[encoded data removed]",
      "text/plain": [
       "<Figure size 640x480 with 1 Axes>"
      ]
     },
     "metadata": {},
     "output_type": "display_data"
    }
   ],
   "source": [
    "# Counting plot for Payment Method\n",
    "df['Payment Method'].value_counts().plot(kind='bar')\n",
    "plt.xlabel('Payment Method')\n",
    "plt.ylabel('Count')\n",
    "plt.title('Transaction Counts by Payment Method')\n",
    "plt.show()"
   ]
  },
  {
   "cell_type": "markdown",
   "metadata": {
    "id": "wlYm1JweSalF"
   },
   "source": []
  },
  {
   "cell_type": "code",
   "execution_count": 89,
   "metadata": {
    "colab": {
     "base_uri": "https://localhost:8080/"
    },
    "executionInfo": {
     "elapsed": 4,
     "status": "ok",
     "timestamp": 1732089552426,
     "user": {
      "displayName": "Brian Long",
      "userId": "09814485269251064880"
     },
     "user_tz": -480
    },
    "id": "RCDDonzaBz8W",
    "outputId": "cdd4ed71-7539-4e37-acbc-893ab8d7729c"
   },
   "outputs": [
    {
     "data": {
      "image/png": "[encoded data removed]",
      "text/plain": [
       "<Figure size 640x480 with 1 Axes>"
      ]
     },
     "metadata": {},
     "output_type": "display_data"
    }
   ],
   "source": [
    "# Counting plot for Product Category\n",
    "df['Product Category'].value_counts().plot(kind='bar')\n",
    "plt.xlabel('Product Category')\n",
    "plt.ylabel('Count')\n",
    "plt.title('Transaction Counts per Product Category')\n",
    "plt.show()"
   ]
  },
  {
   "cell_type": "code",
   "execution_count": 90,
   "metadata": {
    "colab": {
     "base_uri": "https://localhost:8080/"
    },
    "executionInfo": {
     "elapsed": 554,
     "status": "ok",
     "timestamp": 1732089552977,
     "user": {
      "displayName": "Brian Long",
      "userId": "09814485269251064880"
     },
     "user_tz": -480
    },
    "id": "A0PqOB0MLGFe",
    "outputId": "34b2a8ff-9cd0-4959-c395-3b554424e52a"
   },
   "outputs": [
    {
     "data": {
      "image/png": "[encoded data removed]",
      "text/plain": [
       "<Figure size 640x480 with 1 Axes>"
      ]
     },
     "metadata": {},
     "output_type": "display_data"
    }
   ],
   "source": [
    "df['Device Used'].value_counts().plot(kind='bar')\n",
    "plt.xlabel('Device Used')\n",
    "plt.ylabel('Count')\n",
    "plt.title('Transaction Counts per Device Used')\n",
    "plt.show()"
   ]
  },
  {
   "cell_type": "code",
   "execution_count": 91,
   "metadata": {
    "colab": {
     "base_uri": "https://localhost:8080/"
    },
    "executionInfo": {
     "elapsed": 375,
     "status": "ok",
     "timestamp": 1732089553349,
     "user": {
      "displayName": "Brian Long",
      "userId": "09814485269251064880"
     },
     "user_tz": -480
    },
    "id": "G8zTQiXSE_h8",
    "outputId": "9effe441-0170-41af-bafd-62371882bf11"
   },
   "outputs": [
    {
     "data": {
      "image/png": "[encoded data removed]",
      "text/plain": [
       "<Figure size 640x480 with 1 Axes>"
      ]
     },
     "metadata": {},
     "output_type": "display_data"
    }
   ],
   "source": [
    "# Distribution of Transaction Amounts\n",
    "plt.hist(df['Customer Age'], bins=30, edgecolor='k')\n",
    "plt.xlabel('Customer Age')\n",
    "plt.ylabel('Number of Customers')\n",
    "plt.title('Distribution of Customer Age')\n",
    "plt.show()"
   ]
  },
  {
   "cell_type": "code",
   "execution_count": 92,
   "metadata": {
    "colab": {
     "base_uri": "https://localhost:8080/"
    },
    "executionInfo": {
     "elapsed": 5,
     "status": "ok",
     "timestamp": 1732089553350,
     "user": {
      "displayName": "Brian Long",
      "userId": "09814485269251064880"
     },
     "user_tz": -480
    },
    "id": "gFPLn-bfFNBW",
    "outputId": "f0c8323e-f286-4fcc-91f4-c755b49dbd0c"
   },
   "outputs": [
    {
     "data": {
      "image/png": "[encoded data removed]",
      "text/plain": [
       "<Figure size 640x480 with 1 Axes>"
      ]
     },
     "metadata": {},
     "output_type": "display_data"
    }
   ],
   "source": [
    "# Distribution of Account Age\n",
    "plt.hist(df['Account Age Days'], bins=30, edgecolor='k')\n",
    "plt.xlabel('Account Age (in Days)')\n",
    "plt.ylabel('Number of Accounts')\n",
    "plt.title('Distribution of Account Age')\n",
    "plt.show()"
   ]
  },
  {
   "cell_type": "code",
   "execution_count": 93,
   "metadata": {
    "colab": {
     "base_uri": "https://localhost:8080/"
    },
    "executionInfo": {
     "elapsed": 365,
     "status": "ok",
     "timestamp": 1732089553711,
     "user": {
      "displayName": "Brian Long",
      "userId": "09814485269251064880"
     },
     "user_tz": -480
    },
    "id": "q-47xfvLFbKG",
    "outputId": "cee2e656-ef6b-4f00-bfb0-86c1a8ef2f97"
   },
   "outputs": [
    {
     "data": {
      "image/png": "[encoded data removed]",
      "text/plain": [
       "<Figure size 640x480 with 1 Axes>"
      ]
     },
     "metadata": {},
     "output_type": "display_data"
    }
   ],
   "source": [
    "# Distribution of Quantities\n",
    "plt.hist(df['Quantity'], bins=30, edgecolor='k')\n",
    "plt.xlabel('Quantities')\n",
    "plt.ylabel('Transaction Counts')\n",
    "plt.title('Distribution of Quantities')\n",
    "plt.show()"
   ]
  },
  {
   "cell_type": "markdown",
   "metadata": {
    "id": "H44WlUjCFoUr"
   },
   "source": [
    "Based on the distribution of the `Quantity` column, we find it suitable to ordinally encode the column."
   ]
  },
  {
   "cell_type": "code",
   "execution_count": 94,
   "metadata": {
    "colab": {
     "base_uri": "https://localhost:8080/"
    },
    "executionInfo": {
     "elapsed": 552,
     "status": "ok",
     "timestamp": 1732089554261,
     "user": {
      "displayName": "Brian Long",
      "userId": "09814485269251064880"
     },
     "user_tz": -480
    },
    "id": "ZG2PuPgjFvWU",
    "outputId": "ccf05d84-9d34-48fd-8c07-1d2055e0e59f"
   },
   "outputs": [
    {
     "data": {
      "image/png": "[encoded data removed]",
      "text/plain": [
       "<Figure size 640x480 with 1 Axes>"
      ]
     },
     "metadata": {},
     "output_type": "display_data"
    }
   ],
   "source": [
    "# Counting plot for Transaction Hour\n",
    "df['Transaction Hour'].value_counts().sort_index().plot(kind='bar')\n",
    "plt.xlabel('Transaction Hours')\n",
    "plt.ylabel('Count')\n",
    "plt.title('Transaction Counts by Transaction Hour')\n",
    "plt.show()"
   ]
  },
  {
   "cell_type": "code",
   "execution_count": 95,
   "metadata": {
    "colab": {
     "base_uri": "https://localhost:8080/"
    },
    "executionInfo": {
     "elapsed": 4,
     "status": "ok",
     "timestamp": 1732089554261,
     "user": {
      "displayName": "Brian Long",
      "userId": "09814485269251064880"
     },
     "user_tz": -480
    },
    "id": "L8omjzTIKVki",
    "outputId": "c2895ff5-41bf-4cb1-c496-95f22d72c49a"
   },
   "outputs": [
    {
     "data": {
      "text/html": [
       "<div>\n",
       "<style scoped>\n",
       "    .dataframe tbody tr th:only-of-type {\n",
       "        vertical-align: middle;\n",
       "    }\n",
       "\n",
       "    .dataframe tbody tr th {\n",
       "        vertical-align: top;\n",
       "    }\n",
       "\n",
       "    .dataframe thead th {\n",
       "        text-align: right;\n",
       "    }\n",
       "</style>\n",
       "<table border=\"1\" class=\"dataframe\">\n",
       "  <thead>\n",
       "    <tr style=\"text-align: right;\">\n",
       "      <th></th>\n",
       "      <th>Quantity</th>\n",
       "      <th>Transaction Amount</th>\n",
       "      <th>Customer Age</th>\n",
       "      <th>Account Age Days</th>\n",
       "      <th>Transaction Hour</th>\n",
       "    </tr>\n",
       "  </thead>\n",
       "  <tbody>\n",
       "    <tr>\n",
       "      <th>count</th>\n",
       "      <td>23634.000000</td>\n",
       "      <td>23634.000000</td>\n",
       "      <td>23634.000000</td>\n",
       "      <td>23634.000000</td>\n",
       "      <td>23634.000000</td>\n",
       "    </tr>\n",
       "    <tr>\n",
       "      <th>mean</th>\n",
       "      <td>3.000550</td>\n",
       "      <td>229.367099</td>\n",
       "      <td>34.560210</td>\n",
       "      <td>178.660531</td>\n",
       "      <td>11.266015</td>\n",
       "    </tr>\n",
       "    <tr>\n",
       "      <th>std</th>\n",
       "      <td>1.419663</td>\n",
       "      <td>282.046669</td>\n",
       "      <td>10.009471</td>\n",
       "      <td>107.388682</td>\n",
       "      <td>6.980659</td>\n",
       "    </tr>\n",
       "    <tr>\n",
       "      <th>min</th>\n",
       "      <td>1.000000</td>\n",
       "      <td>10.000000</td>\n",
       "      <td>-2.000000</td>\n",
       "      <td>1.000000</td>\n",
       "      <td>0.000000</td>\n",
       "    </tr>\n",
       "    <tr>\n",
       "      <th>25%</th>\n",
       "      <td>2.000000</td>\n",
       "      <td>69.070000</td>\n",
       "      <td>28.000000</td>\n",
       "      <td>84.000000</td>\n",
       "      <td>5.000000</td>\n",
       "    </tr>\n",
       "    <tr>\n",
       "      <th>50%</th>\n",
       "      <td>3.000000</td>\n",
       "      <td>151.415000</td>\n",
       "      <td>35.000000</td>\n",
       "      <td>178.000000</td>\n",
       "      <td>11.000000</td>\n",
       "    </tr>\n",
       "    <tr>\n",
       "      <th>75%</th>\n",
       "      <td>4.000000</td>\n",
       "      <td>296.127500</td>\n",
       "      <td>41.000000</td>\n",
       "      <td>272.000000</td>\n",
       "      <td>17.000000</td>\n",
       "    </tr>\n",
       "    <tr>\n",
       "      <th>max</th>\n",
       "      <td>5.000000</td>\n",
       "      <td>9716.500000</td>\n",
       "      <td>73.000000</td>\n",
       "      <td>365.000000</td>\n",
       "      <td>23.000000</td>\n",
       "    </tr>\n",
       "  </tbody>\n",
       "</table>\n",
       "</div>"
      ],
      "text/plain": [
       "           Quantity  Transaction Amount  Customer Age  Account Age Days  \\\n",
       "count  23634.000000        23634.000000  23634.000000      23634.000000   \n",
       "mean       3.000550          229.367099     34.560210        178.660531   \n",
       "std        1.419663          282.046669     10.009471        107.388682   \n",
       "min        1.000000           10.000000     -2.000000          1.000000   \n",
       "25%        2.000000           69.070000     28.000000         84.000000   \n",
       "50%        3.000000          151.415000     35.000000        178.000000   \n",
       "75%        4.000000          296.127500     41.000000        272.000000   \n",
       "max        5.000000         9716.500000     73.000000        365.000000   \n",
       "\n",
       "       Transaction Hour  \n",
       "count      23634.000000  \n",
       "mean          11.266015  \n",
       "std            6.980659  \n",
       "min            0.000000  \n",
       "25%            5.000000  \n",
       "50%           11.000000  \n",
       "75%           17.000000  \n",
       "max           23.000000  "
      ]
     },
     "execution_count": 95,
     "metadata": {},
     "output_type": "execute_result"
    }
   ],
   "source": [
    "numerical_columns = ['Quantity', 'Transaction Amount', 'Customer Age', 'Account Age Days', 'Transaction Hour']\n",
    "df[numerical_columns].describe()"
   ]
  },
  {
   "cell_type": "code",
   "execution_count": 96,
   "metadata": {
    "id": "NH6epXWd2lFl"
   },
   "outputs": [
    {
     "name": "stdout",
     "output_type": "stream",
     "text": [
      "Repeated Shipping Addresses:\n",
      " Series([], Name: count, dtype: int64)\n",
      "Repeated Billing Addresses:\n",
      " Series([], Name: count, dtype: int64)\n",
      "Repeated IP Addresses:\n",
      " Series([], Name: count, dtype: int64)\n"
     ]
    }
   ],
   "source": [
    "# Check for duplicate Shipping Addresses\n",
    "duplicate_shipping = df['Shipping Address'].value_counts()\n",
    "repeated_shipping = duplicate_shipping[duplicate_shipping > 1]\n",
    "\n",
    "# Check for duplicate Billing Addresses\n",
    "duplicate_billing = df['Billing Address'].value_counts()\n",
    "repeated_billing = duplicate_billing[duplicate_billing > 1]\n",
    "\n",
    "# Check for duplicate IP Addresses\n",
    "duplicate_ip = df['IP Address'].value_counts()\n",
    "repeated_ip = duplicate_ip[duplicate_ip > 1]\n",
    "\n",
    "# Print results\n",
    "print(\"Repeated Shipping Addresses:\\n\", repeated_shipping)\n",
    "print(\"Repeated Billing Addresses:\\n\", repeated_billing)\n",
    "print(\"Repeated IP Addresses:\\n\", repeated_ip)"
   ]
  },
  {
   "cell_type": "code",
   "execution_count": 97,
   "metadata": {
    "colab": {
     "base_uri": "https://localhost:8080/"
    },
    "executionInfo": {
     "elapsed": 1548,
     "status": "ok",
     "timestamp": 1732089555806,
     "user": {
      "displayName": "Brian Long",
      "userId": "09814485269251064880"
     },
     "user_tz": -480
    },
    "id": "pdWwgF7V1sat",
    "outputId": "a8bfe046-715a-4788-ab5a-37d9e91279f5"
   },
   "outputs": [
    {
     "data": {
      "image/png": "[encoded data removed]",
      "text/plain": [
       "<Figure size 1000x800 with 4 Axes>"
      ]
     },
     "metadata": {},
     "output_type": "display_data"
    }
   ],
   "source": [
    "# prompt: show multiple box plots when provided with a list of columns\n",
    "\n",
    "# Assuming you want box plots for the 'numerical_columns' you defined earlier\n",
    "numerical_columns = ['Transaction Amount', 'Customer Age', 'Account Age Days', 'Transaction Hour']\n",
    "\n",
    "plt.figure(figsize=(10, 8))  # Adjust the figure size as needed\n",
    "\n",
    "for i, column in enumerate(numerical_columns):\n",
    "  plt.subplot(2, 2, i + 1)  # Create subplots for each column\n",
    "  sns.boxplot(y=df[column])\n",
    "  plt.title(column)\n",
    "\n",
    "plt.tight_layout()  # Adjust spacing between subplots\n",
    "plt.show()"
   ]
  },
  {
   "cell_type": "code",
   "execution_count": 98,
   "metadata": {
    "colab": {
     "base_uri": "https://localhost:8080/"
    },
    "executionInfo": {
     "elapsed": 11,
     "status": "ok",
     "timestamp": 1732089555806,
     "user": {
      "displayName": "Brian Long",
      "userId": "09814485269251064880"
     },
     "user_tz": -480
    },
    "id": "z5AuhMUTpAzi",
    "outputId": "c1dac612-62f4-4e73-efc8-2b324a3a1a9e"
   },
   "outputs": [
    {
     "name": "stdout",
     "output_type": "stream",
     "text": [
      "               Count  Percentage\n",
      "Is Fraudulent                   \n",
      "0              22412   94.829483\n",
      "1               1222    5.170517\n"
     ]
    }
   ],
   "source": [
    "# Calculate the count of fraudulent and non-fraudulent transactions\n",
    "fraud_counts = df['Is Fraudulent'].value_counts()\n",
    "\n",
    "# Calculate the percentage of each type of transaction\n",
    "fraud_percentages = df['Is Fraudulent'].value_counts(normalize=True) * 100\n",
    "\n",
    "# Combine both into a DataFrame for better readability\n",
    "fraud_summary = pd.DataFrame({'Count': fraud_counts, 'Percentage': fraud_percentages})\n",
    "\n",
    "# Display the summary\n",
    "print(fraud_summary)"
   ]
  },
  {
   "cell_type": "code",
   "execution_count": 99,
   "metadata": {
    "colab": {
     "base_uri": "https://localhost:8080/"
    },
    "executionInfo": {
     "elapsed": 11,
     "status": "ok",
     "timestamp": 1732089555806,
     "user": {
      "displayName": "Brian Long",
      "userId": "09814485269251064880"
     },
     "user_tz": -480
    },
    "id": "SSQpaTVhmRrX",
    "outputId": "2a7d2f3b-405f-4dae-856b-fa05e0182fc7"
   },
   "outputs": [
    {
     "data": {
      "image/png": "[encoded data removed]",
      "text/plain": [
       "<Figure size 1000x600 with 1 Axes>"
      ]
     },
     "metadata": {},
     "output_type": "display_data"
    },
    {
     "name": "stdout",
     "output_type": "stream",
     "text": [
      "count    23634.000000\n",
      "mean        34.560210\n",
      "std         10.009471\n",
      "min         -2.000000\n",
      "25%         28.000000\n",
      "50%         35.000000\n",
      "75%         41.000000\n",
      "max         73.000000\n",
      "Name: Customer Age, dtype: float64\n"
     ]
    }
   ],
   "source": [
    "# Boxplot to have a closer look at the outliers in the Customer Age column\n",
    "plt.figure(figsize=(10, 6))\n",
    "df.loc[df['Customer Age']>0, 'Customer Age'].plot(kind='box')\n",
    "plt.title('Boxplot of Customer Age')\n",
    "plt.show()\n",
    "\n",
    "age_summary = df['Customer Age'].describe()\n",
    "print(age_summary)"
   ]
  },
  {
   "cell_type": "code",
   "execution_count": 100,
   "metadata": {
    "colab": {
     "base_uri": "https://localhost:8080/"
    },
    "executionInfo": {
     "elapsed": 10,
     "status": "ok",
     "timestamp": 1732089555806,
     "user": {
      "displayName": "Brian Long",
      "userId": "09814485269251064880"
     },
     "user_tz": -480
    },
    "id": "xb4h9BwhmcwO",
    "outputId": "ae214e3b-d7ad-4259-8747-ee450b535ba6"
   },
   "outputs": [
    {
     "name": "stdout",
     "output_type": "stream",
     "text": [
      "           min  max  count\n",
      "Age Group                 \n",
      "-10 to 0    -2   -2      1\n",
      "1 - 10       0    9    151\n",
      "11 - 20     10   19   1437\n",
      "21 - 30     20   29   5664\n",
      "31 - 40     30   39   9023\n",
      "41 - 50     40   49   5761\n",
      "51 - 60     50   59   1444\n",
      "61 - 70     60   69    149\n",
      "71 - 80     70   73      4\n"
     ]
    }
   ],
   "source": [
    "# Define the new age bins and labels\n",
    "bins = [-10, 0, 10, 20, 30, 40, 50, 60, 70,80]\n",
    "labels = ['-10 to 0', '1 - 10', '11 - 20', '21 - 30', '31 - 40', \n",
    "          '41 - 50', '51 - 60', '61 - 70', '71 - 80']\n",
    "\n",
    "# Create a new column for age groups\n",
    "df['Age Group'] = pd.cut(df['Customer Age'], bins=bins, labels=labels, right=False)\n",
    "\n",
    "# Group by Age Group and calculate the range of ages (min and max)\n",
    "age_range_by_group = df.groupby('Age Group', observed=False)['Customer Age'].agg(['min', 'max', 'count'])\n",
    "\n",
    "# Display the result\n",
    "print(age_range_by_group)"
   ]
  },
  {
   "cell_type": "code",
   "execution_count": 101,
   "metadata": {
    "colab": {
     "base_uri": "https://localhost:8080/"
    },
    "executionInfo": {
     "elapsed": 10,
     "status": "ok",
     "timestamp": 1732089555806,
     "user": {
      "displayName": "Brian Long",
      "userId": "09814485269251064880"
     },
     "user_tz": -480
    },
    "id": "ZkzUC8itNsJL",
    "outputId": "afc8789a-aa40-4a1a-d29e-0227bb77cbb1"
   },
   "outputs": [
    {
     "name": "stderr",
     "output_type": "stream",
     "text": [
      "/var/folders/0p/py3q5_c526d7j6_m7dydm6qm0000gp/T/ipykernel_80145/146452724.py:2: FutureWarning: The default of observed=False is deprecated and will be changed to True in a future version of pandas. Pass observed=False to retain current behavior or observed=True to adopt the future default and silence this warning.\n",
      "  age_group_stats = df.groupby('Age Group').agg({\n",
      "/var/folders/0p/py3q5_c526d7j6_m7dydm6qm0000gp/T/ipykernel_80145/146452724.py:8: FutureWarning: The default of observed=False is deprecated and will be changed to True in a future version of pandas. Pass observed=False to retain current behavior or observed=True to adopt the future default and silence this warning.\n",
      "  age_group_stats['Total Transactions'] = df.groupby('Age Group').size()\n"
     ]
    },
    {
     "data": {
      "text/html": [
       "<div>\n",
       "<style scoped>\n",
       "    .dataframe tbody tr th:only-of-type {\n",
       "        vertical-align: middle;\n",
       "    }\n",
       "\n",
       "    .dataframe tbody tr th {\n",
       "        vertical-align: top;\n",
       "    }\n",
       "\n",
       "    .dataframe thead th {\n",
       "        text-align: right;\n",
       "    }\n",
       "</style>\n",
       "<table border=\"1\" class=\"dataframe\">\n",
       "  <thead>\n",
       "    <tr style=\"text-align: right;\">\n",
       "      <th></th>\n",
       "      <th>Average Transaction Amount</th>\n",
       "      <th>Average Quantity</th>\n",
       "      <th>Fraudulent Percentage</th>\n",
       "      <th>Total Transactions</th>\n",
       "    </tr>\n",
       "    <tr>\n",
       "      <th>Age Group</th>\n",
       "      <th></th>\n",
       "      <th></th>\n",
       "      <th></th>\n",
       "      <th></th>\n",
       "    </tr>\n",
       "  </thead>\n",
       "  <tbody>\n",
       "    <tr>\n",
       "      <th>-10 to 0</th>\n",
       "      <td>190.760000</td>\n",
       "      <td>3.000000</td>\n",
       "      <td>0.000000</td>\n",
       "      <td>1</td>\n",
       "    </tr>\n",
       "    <tr>\n",
       "      <th>1 - 10</th>\n",
       "      <td>246.947285</td>\n",
       "      <td>2.894040</td>\n",
       "      <td>0.052980</td>\n",
       "      <td>151</td>\n",
       "    </tr>\n",
       "    <tr>\n",
       "      <th>11 - 20</th>\n",
       "      <td>232.744983</td>\n",
       "      <td>3.035491</td>\n",
       "      <td>0.045233</td>\n",
       "      <td>1437</td>\n",
       "    </tr>\n",
       "    <tr>\n",
       "      <th>21 - 30</th>\n",
       "      <td>228.102246</td>\n",
       "      <td>2.993997</td>\n",
       "      <td>0.054379</td>\n",
       "      <td>5664</td>\n",
       "    </tr>\n",
       "    <tr>\n",
       "      <th>31 - 40</th>\n",
       "      <td>232.053739</td>\n",
       "      <td>3.000554</td>\n",
       "      <td>0.049429</td>\n",
       "      <td>9023</td>\n",
       "    </tr>\n",
       "    <tr>\n",
       "      <th>41 - 50</th>\n",
       "      <td>225.933963</td>\n",
       "      <td>3.000694</td>\n",
       "      <td>0.053637</td>\n",
       "      <td>5761</td>\n",
       "    </tr>\n",
       "    <tr>\n",
       "      <th>51 - 60</th>\n",
       "      <td>225.857396</td>\n",
       "      <td>3.001385</td>\n",
       "      <td>0.052632</td>\n",
       "      <td>1444</td>\n",
       "    </tr>\n",
       "    <tr>\n",
       "      <th>61 - 70</th>\n",
       "      <td>223.217450</td>\n",
       "      <td>3.000000</td>\n",
       "      <td>0.060403</td>\n",
       "      <td>149</td>\n",
       "    </tr>\n",
       "    <tr>\n",
       "      <th>71 - 80</th>\n",
       "      <td>533.155000</td>\n",
       "      <td>3.250000</td>\n",
       "      <td>0.250000</td>\n",
       "      <td>4</td>\n",
       "    </tr>\n",
       "  </tbody>\n",
       "</table>\n",
       "</div>"
      ],
      "text/plain": [
       "           Average Transaction Amount  Average Quantity  \\\n",
       "Age Group                                                 \n",
       "-10 to 0                   190.760000          3.000000   \n",
       "1 - 10                     246.947285          2.894040   \n",
       "11 - 20                    232.744983          3.035491   \n",
       "21 - 30                    228.102246          2.993997   \n",
       "31 - 40                    232.053739          3.000554   \n",
       "41 - 50                    225.933963          3.000694   \n",
       "51 - 60                    225.857396          3.001385   \n",
       "61 - 70                    223.217450          3.000000   \n",
       "71 - 80                    533.155000          3.250000   \n",
       "\n",
       "           Fraudulent Percentage  Total Transactions  \n",
       "Age Group                                             \n",
       "-10 to 0                0.000000                   1  \n",
       "1 - 10                  0.052980                 151  \n",
       "11 - 20                 0.045233                1437  \n",
       "21 - 30                 0.054379                5664  \n",
       "31 - 40                 0.049429                9023  \n",
       "41 - 50                 0.053637                5761  \n",
       "51 - 60                 0.052632                1444  \n",
       "61 - 70                 0.060403                 149  \n",
       "71 - 80                 0.250000                   4  "
      ]
     },
     "execution_count": 101,
     "metadata": {},
     "output_type": "execute_result"
    }
   ],
   "source": [
    "# Group by 'Age Group' and calculate the average transaction amount, quantity, fraudulent percentage and number of transactions per payment method\n",
    "age_group_stats = df.groupby('Age Group').agg({\n",
    "    'Transaction Amount': 'mean',\n",
    "    'Quantity': 'mean',\n",
    "    'Is Fraudulent': 'mean'  # Calculate the mean of 'Is Fraudulent' to get the percentage\n",
    "})\n",
    "\n",
    "age_group_stats['Total Transactions'] = df.groupby('Age Group').size()\n",
    "\n",
    "# Rename the columns for better readability\n",
    "age_group_stats = age_group_stats.rename(columns={\n",
    "    'Transaction Amount': 'Average Transaction Amount',\n",
    "    'Quantity': 'Average Quantity',\n",
    "    'Is Fraudulent': 'Fraudulent Percentage'\n",
    "})\n",
    "\n",
    "age_group_stats"
   ]
  },
  {
   "cell_type": "code",
   "execution_count": 102,
   "metadata": {
    "colab": {
     "base_uri": "https://localhost:8080/"
    },
    "executionInfo": {
     "elapsed": 9,
     "status": "ok",
     "timestamp": 1732089555806,
     "user": {
      "displayName": "Brian Long",
      "userId": "09814485269251064880"
     },
     "user_tz": -480
    },
    "id": "PIr3-Ua3LnXl",
    "outputId": "501da05b-9253-4c90-a729-1fb97fd2ce57"
   },
   "outputs": [
    {
     "data": {
      "text/html": [
       "<div>\n",
       "<style scoped>\n",
       "    .dataframe tbody tr th:only-of-type {\n",
       "        vertical-align: middle;\n",
       "    }\n",
       "\n",
       "    .dataframe tbody tr th {\n",
       "        vertical-align: top;\n",
       "    }\n",
       "\n",
       "    .dataframe thead th {\n",
       "        text-align: right;\n",
       "    }\n",
       "</style>\n",
       "<table border=\"1\" class=\"dataframe\">\n",
       "  <thead>\n",
       "    <tr style=\"text-align: right;\">\n",
       "      <th></th>\n",
       "      <th>Average Transaction Amount</th>\n",
       "      <th>Average Quantity</th>\n",
       "      <th>Fraudulent Percentage</th>\n",
       "      <th>Total Transactions</th>\n",
       "    </tr>\n",
       "    <tr>\n",
       "      <th>Payment Method</th>\n",
       "      <th></th>\n",
       "      <th></th>\n",
       "      <th></th>\n",
       "      <th></th>\n",
       "    </tr>\n",
       "  </thead>\n",
       "  <tbody>\n",
       "    <tr>\n",
       "      <th>PayPal</th>\n",
       "      <td>232.859739</td>\n",
       "      <td>3.001526</td>\n",
       "      <td>0.052551</td>\n",
       "      <td>5899</td>\n",
       "    </tr>\n",
       "    <tr>\n",
       "      <th>bank transfer</th>\n",
       "      <td>229.346338</td>\n",
       "      <td>3.010239</td>\n",
       "      <td>0.055631</td>\n",
       "      <td>5860</td>\n",
       "    </tr>\n",
       "    <tr>\n",
       "      <th>credit card</th>\n",
       "      <td>227.438727</td>\n",
       "      <td>2.992571</td>\n",
       "      <td>0.050819</td>\n",
       "      <td>5923</td>\n",
       "    </tr>\n",
       "    <tr>\n",
       "      <th>debit card</th>\n",
       "      <td>227.844975</td>\n",
       "      <td>2.997984</td>\n",
       "      <td>0.047883</td>\n",
       "      <td>5952</td>\n",
       "    </tr>\n",
       "  </tbody>\n",
       "</table>\n",
       "</div>"
      ],
      "text/plain": [
       "                Average Transaction Amount  Average Quantity  \\\n",
       "Payment Method                                                 \n",
       "PayPal                          232.859739          3.001526   \n",
       "bank transfer                   229.346338          3.010239   \n",
       "credit card                     227.438727          2.992571   \n",
       "debit card                      227.844975          2.997984   \n",
       "\n",
       "                Fraudulent Percentage  Total Transactions  \n",
       "Payment Method                                             \n",
       "PayPal                       0.052551                5899  \n",
       "bank transfer                0.055631                5860  \n",
       "credit card                  0.050819                5923  \n",
       "debit card                   0.047883                5952  "
      ]
     },
     "execution_count": 102,
     "metadata": {},
     "output_type": "execute_result"
    }
   ],
   "source": [
    "# Group by 'Payment Method' and calculate the average transaction amount, quantity, fraudulent percentage and number of transactions per payment method\n",
    "payment_method_stats = df.groupby('Payment Method').agg({\n",
    "    'Transaction Amount': 'mean',\n",
    "    'Quantity': 'mean',\n",
    "    'Is Fraudulent': 'mean'  # Calculate the mean of 'Is Fraudulent' to get the percentage\n",
    "})\n",
    "\n",
    "payment_method_stats['Total Transactions'] = df.groupby('Payment Method').size()\n",
    "\n",
    "# Rename the columns for better readability\n",
    "payment_method_stats = payment_method_stats.rename(columns={\n",
    "    'Transaction Amount': 'Average Transaction Amount',\n",
    "    'Quantity': 'Average Quantity',\n",
    "    'Is Fraudulent': 'Fraudulent Percentage'\n",
    "})\n",
    "\n",
    "payment_method_stats"
   ]
  },
  {
   "cell_type": "code",
   "execution_count": 103,
   "metadata": {
    "colab": {
     "base_uri": "https://localhost:8080/"
    },
    "executionInfo": {
     "elapsed": 9,
     "status": "ok",
     "timestamp": 1732089555807,
     "user": {
      "displayName": "Brian Long",
      "userId": "09814485269251064880"
     },
     "user_tz": -480
    },
    "id": "jy_LO1zvLvil",
    "outputId": "d08c8f4f-28e1-48d9-e49d-f6f2ef90dad4"
   },
   "outputs": [
    {
     "data": {
      "text/html": [
       "<div>\n",
       "<style scoped>\n",
       "    .dataframe tbody tr th:only-of-type {\n",
       "        vertical-align: middle;\n",
       "    }\n",
       "\n",
       "    .dataframe tbody tr th {\n",
       "        vertical-align: top;\n",
       "    }\n",
       "\n",
       "    .dataframe thead th {\n",
       "        text-align: right;\n",
       "    }\n",
       "</style>\n",
       "<table border=\"1\" class=\"dataframe\">\n",
       "  <thead>\n",
       "    <tr style=\"text-align: right;\">\n",
       "      <th></th>\n",
       "      <th>Average Transaction Amount</th>\n",
       "      <th>Average Quantity</th>\n",
       "      <th>Fraudulent Percentage</th>\n",
       "      <th>Total Transactions</th>\n",
       "    </tr>\n",
       "    <tr>\n",
       "      <th>Product Category</th>\n",
       "      <th></th>\n",
       "      <th></th>\n",
       "      <th></th>\n",
       "      <th></th>\n",
       "    </tr>\n",
       "  </thead>\n",
       "  <tbody>\n",
       "    <tr>\n",
       "      <th>clothing</th>\n",
       "      <td>228.695465</td>\n",
       "      <td>2.981060</td>\n",
       "      <td>0.055331</td>\n",
       "      <td>4699</td>\n",
       "    </tr>\n",
       "    <tr>\n",
       "      <th>electronics</th>\n",
       "      <td>228.216740</td>\n",
       "      <td>3.058762</td>\n",
       "      <td>0.048231</td>\n",
       "      <td>4748</td>\n",
       "    </tr>\n",
       "    <tr>\n",
       "      <th>health &amp; beauty</th>\n",
       "      <td>226.510871</td>\n",
       "      <td>2.960608</td>\n",
       "      <td>0.052237</td>\n",
       "      <td>4671</td>\n",
       "    </tr>\n",
       "    <tr>\n",
       "      <th>home &amp; garden</th>\n",
       "      <td>234.907428</td>\n",
       "      <td>2.989553</td>\n",
       "      <td>0.053907</td>\n",
       "      <td>4786</td>\n",
       "    </tr>\n",
       "    <tr>\n",
       "      <th>toys &amp; games</th>\n",
       "      <td>228.403744</td>\n",
       "      <td>3.012051</td>\n",
       "      <td>0.048837</td>\n",
       "      <td>4730</td>\n",
       "    </tr>\n",
       "  </tbody>\n",
       "</table>\n",
       "</div>"
      ],
      "text/plain": [
       "                  Average Transaction Amount  Average Quantity  \\\n",
       "Product Category                                                 \n",
       "clothing                          228.695465          2.981060   \n",
       "electronics                       228.216740          3.058762   \n",
       "health & beauty                   226.510871          2.960608   \n",
       "home & garden                     234.907428          2.989553   \n",
       "toys & games                      228.403744          3.012051   \n",
       "\n",
       "                  Fraudulent Percentage  Total Transactions  \n",
       "Product Category                                             \n",
       "clothing                       0.055331                4699  \n",
       "electronics                    0.048231                4748  \n",
       "health & beauty                0.052237                4671  \n",
       "home & garden                  0.053907                4786  \n",
       "toys & games                   0.048837                4730  "
      ]
     },
     "execution_count": 103,
     "metadata": {},
     "output_type": "execute_result"
    }
   ],
   "source": [
    "# Group by 'Product Category' and calculate the average transaction amount, quantity, fraudulent percentage and number of transactions per product category\n",
    "category_stats = df.groupby('Product Category').agg({\n",
    "    'Transaction Amount': 'mean',\n",
    "    'Quantity': 'mean',\n",
    "    'Is Fraudulent': 'mean'  # Calculate the mean of 'Is Fraudulent' to get the percentage\n",
    "})\n",
    "\n",
    "category_stats['Total Transactions'] = df.groupby('Product Category').size()\n",
    "\n",
    "# Rename the columns for better readability\n",
    "category_stats = category_stats.rename(columns={\n",
    "    'Transaction Amount': 'Average Transaction Amount',\n",
    "    'Quantity': 'Average Quantity',\n",
    "    'Is Fraudulent': 'Fraudulent Percentage'\n",
    "})\n",
    "\n",
    "category_stats"
   ]
  },
  {
   "cell_type": "code",
   "execution_count": 104,
   "metadata": {
    "colab": {
     "base_uri": "https://localhost:8080/"
    },
    "executionInfo": {
     "elapsed": 9,
     "status": "ok",
     "timestamp": 1732089556417,
     "user": {
      "displayName": "Brian Long",
      "userId": "09814485269251064880"
     },
     "user_tz": -480
    },
    "id": "hrYYkB49M7I4",
    "outputId": "65f67612-86e7-493f-f19f-1907f75249ca"
   },
   "outputs": [
    {
     "data": {
      "text/html": [
       "<div>\n",
       "<style scoped>\n",
       "    .dataframe tbody tr th:only-of-type {\n",
       "        vertical-align: middle;\n",
       "    }\n",
       "\n",
       "    .dataframe tbody tr th {\n",
       "        vertical-align: top;\n",
       "    }\n",
       "\n",
       "    .dataframe thead th {\n",
       "        text-align: right;\n",
       "    }\n",
       "</style>\n",
       "<table border=\"1\" class=\"dataframe\">\n",
       "  <thead>\n",
       "    <tr style=\"text-align: right;\">\n",
       "      <th></th>\n",
       "      <th>Average Transaction Amount</th>\n",
       "      <th>Average Quantity</th>\n",
       "      <th>Fraudulent Percentage</th>\n",
       "      <th>Total Transactions</th>\n",
       "    </tr>\n",
       "    <tr>\n",
       "      <th>Device Used</th>\n",
       "      <th></th>\n",
       "      <th></th>\n",
       "      <th></th>\n",
       "      <th></th>\n",
       "    </tr>\n",
       "  </thead>\n",
       "  <tbody>\n",
       "    <tr>\n",
       "      <th>desktop</th>\n",
       "      <td>227.631241</td>\n",
       "      <td>3.016282</td>\n",
       "      <td>0.051243</td>\n",
       "      <td>7923</td>\n",
       "    </tr>\n",
       "    <tr>\n",
       "      <th>mobile</th>\n",
       "      <td>230.290759</td>\n",
       "      <td>2.994290</td>\n",
       "      <td>0.054435</td>\n",
       "      <td>7881</td>\n",
       "    </tr>\n",
       "    <tr>\n",
       "      <th>tablet</th>\n",
       "      <td>230.193898</td>\n",
       "      <td>2.990932</td>\n",
       "      <td>0.049425</td>\n",
       "      <td>7830</td>\n",
       "    </tr>\n",
       "  </tbody>\n",
       "</table>\n",
       "</div>"
      ],
      "text/plain": [
       "             Average Transaction Amount  Average Quantity  \\\n",
       "Device Used                                                 \n",
       "desktop                      227.631241          3.016282   \n",
       "mobile                       230.290759          2.994290   \n",
       "tablet                       230.193898          2.990932   \n",
       "\n",
       "             Fraudulent Percentage  Total Transactions  \n",
       "Device Used                                             \n",
       "desktop                   0.051243                7923  \n",
       "mobile                    0.054435                7881  \n",
       "tablet                    0.049425                7830  "
      ]
     },
     "execution_count": 104,
     "metadata": {},
     "output_type": "execute_result"
    }
   ],
   "source": [
    "# Group by 'Device Used' and calculate the average transaction amount, quantity, fraudulent percentage and number of transactions per type of device used\n",
    "device_stats = df.groupby('Device Used').agg({\n",
    "    'Transaction Amount': 'mean',\n",
    "    'Quantity': 'mean',\n",
    "    'Is Fraudulent': 'mean'  # Calculate the mean of 'Is Fraudulent' to get the percentage\n",
    "})\n",
    "\n",
    "device_stats['Total Transactions'] = df.groupby('Device Used').size()\n",
    "\n",
    "# Rename the columns for better readability\n",
    "device_stats = device_stats.rename(columns={\n",
    "    'Transaction Amount': 'Average Transaction Amount',\n",
    "    'Quantity': 'Average Quantity',\n",
    "    'Is Fraudulent': 'Fraudulent Percentage'\n",
    "})\n",
    "\n",
    "device_stats"
   ]
  },
  {
   "cell_type": "code",
   "execution_count": 105,
   "metadata": {
    "colab": {
     "base_uri": "https://localhost:8080/"
    },
    "executionInfo": {
     "elapsed": 8,
     "status": "ok",
     "timestamp": 1732089556417,
     "user": {
      "displayName": "Brian Long",
      "userId": "09814485269251064880"
     },
     "user_tz": -480
    },
    "id": "YUveQ8A4o35o",
    "outputId": "5c2c0110-5cf7-4c26-8cb2-3c9c9c413e3a"
   },
   "outputs": [
    {
     "name": "stdout",
     "output_type": "stream",
     "text": [
      "             Total Transactions  Fraudulent Transactions  \\\n",
      "Device Used                                                \n",
      "desktop                    7923                      406   \n",
      "mobile                     7881                      429   \n",
      "tablet                     7830                      387   \n",
      "\n",
      "             Fraudulent Percentage (%)  \n",
      "Device Used                             \n",
      "desktop                       5.124322  \n",
      "mobile                        5.443472  \n",
      "tablet                        4.942529  \n"
     ]
    }
   ],
   "source": [
    "total_transactions_by_device = df.groupby('Device Used').size()\n",
    "\n",
    "fraudulent_by_device = df[df['Is Fraudulent'] == 1].groupby('Device Used').size()\n",
    "\n",
    "fraud_percentage_by_device = (fraudulent_by_device / total_transactions_by_device) * 100\n",
    "\n",
    "fraud_analysis_by_device = pd.DataFrame({\n",
    "    'Total Transactions': total_transactions_by_device,\n",
    "    'Fraudulent Transactions': fraudulent_by_device,\n",
    "    'Fraudulent Percentage (%)': fraud_percentage_by_device\n",
    "})\n",
    "\n",
    "print(fraud_analysis_by_device)"
   ]
  },
  {
   "cell_type": "code",
   "execution_count": 106,
   "metadata": {
    "colab": {
     "base_uri": "https://localhost:8080/"
    },
    "executionInfo": {
     "elapsed": 7,
     "status": "ok",
     "timestamp": 1732089556417,
     "user": {
      "displayName": "Brian Long",
      "userId": "09814485269251064880"
     },
     "user_tz": -480
    },
    "id": "CiaVjTjSQjBE",
    "outputId": "1eb1a5a8-8d2e-4431-dbaa-39aa42056367"
   },
   "outputs": [
    {
     "data": {
      "text/plain": [
       "<Axes: >"
      ]
     },
     "execution_count": 106,
     "metadata": {},
     "output_type": "execute_result"
    },
    {
     "data": {
      "image/png": "[encoded data removed]",
      "text/plain": [
       "<Figure size 640x480 with 2 Axes>"
      ]
     },
     "metadata": {},
     "output_type": "display_data"
    }
   ],
   "source": [
    "# Exclude non-numeric columns from the correlation matrix calculation\n",
    "numeric_columns = df.select_dtypes(include=['int64', 'float64']).columns\n",
    "corr_matrix = df[numeric_columns].corr()\n",
    "\n",
    "# Create a correlation plot\n",
    "sns.heatmap(corr_matrix, annot=True, cmap='coolwarm')"
   ]
  },
  {
   "cell_type": "code",
   "execution_count": 107,
   "metadata": {
    "colab": {
     "base_uri": "https://localhost:8080/"
    },
    "executionInfo": {
     "elapsed": 6,
     "status": "ok",
     "timestamp": 1732089556417,
     "user": {
      "displayName": "Brian Long",
      "userId": "09814485269251064880"
     },
     "user_tz": -480
    },
    "id": "S_j3N6qRjEsO",
    "outputId": "2b89030a-ee4b-4022-d933-d1289008f40d"
   },
   "outputs": [
    {
     "data": {
      "text/html": [
       "<div>\n",
       "<style scoped>\n",
       "    .dataframe tbody tr th:only-of-type {\n",
       "        vertical-align: middle;\n",
       "    }\n",
       "\n",
       "    .dataframe tbody tr th {\n",
       "        vertical-align: top;\n",
       "    }\n",
       "\n",
       "    .dataframe thead th {\n",
       "        text-align: right;\n",
       "    }\n",
       "</style>\n",
       "<table border=\"1\" class=\"dataframe\">\n",
       "  <thead>\n",
       "    <tr style=\"text-align: right;\">\n",
       "      <th></th>\n",
       "      <th>Transaction ID</th>\n",
       "      <th>Customer ID</th>\n",
       "      <th>Transaction Amount</th>\n",
       "      <th>Transaction Date</th>\n",
       "      <th>Payment Method</th>\n",
       "      <th>Product Category</th>\n",
       "      <th>Quantity</th>\n",
       "      <th>Customer Age</th>\n",
       "      <th>Customer Location</th>\n",
       "      <th>Device Used</th>\n",
       "      <th>IP Address</th>\n",
       "      <th>Shipping Address</th>\n",
       "      <th>Billing Address</th>\n",
       "      <th>Is Fraudulent</th>\n",
       "      <th>Account Age Days</th>\n",
       "      <th>Transaction Hour</th>\n",
       "      <th>Age Group</th>\n",
       "    </tr>\n",
       "  </thead>\n",
       "  <tbody>\n",
       "    <tr>\n",
       "      <th>0</th>\n",
       "      <td>c12e07a0-8a06-4c0d-b5cc-04f3af688570</td>\n",
       "      <td>8ca9f102-02a4-4207-ab63-484e83a1bdf0</td>\n",
       "      <td>42.32</td>\n",
       "      <td>2024-03-24 23:42:43</td>\n",
       "      <td>PayPal</td>\n",
       "      <td>electronics</td>\n",
       "      <td>1</td>\n",
       "      <td>40</td>\n",
       "      <td>East Jameshaven</td>\n",
       "      <td>desktop</td>\n",
       "      <td>110.87.246.85</td>\n",
       "      <td>5399 Rachel Stravenue Suite 718\\nNorth Blakebu...</td>\n",
       "      <td>5399 Rachel Stravenue Suite 718\\nNorth Blakebu...</td>\n",
       "      <td>0</td>\n",
       "      <td>282</td>\n",
       "      <td>23</td>\n",
       "      <td>41 - 50</td>\n",
       "    </tr>\n",
       "    <tr>\n",
       "      <th>1</th>\n",
       "      <td>7d187603-7961-4fce-9827-9698e2b6a201</td>\n",
       "      <td>4d158416-caae-4b09-bd5b-15235deb9129</td>\n",
       "      <td>301.34</td>\n",
       "      <td>2024-01-22 00:53:31</td>\n",
       "      <td>credit card</td>\n",
       "      <td>electronics</td>\n",
       "      <td>3</td>\n",
       "      <td>35</td>\n",
       "      <td>Kingstad</td>\n",
       "      <td>tablet</td>\n",
       "      <td>14.73.104.153</td>\n",
       "      <td>5230 Stephanie Forge\\nCollinsbury, PR 81853</td>\n",
       "      <td>5230 Stephanie Forge\\nCollinsbury, PR 81853</td>\n",
       "      <td>0</td>\n",
       "      <td>223</td>\n",
       "      <td>0</td>\n",
       "      <td>31 - 40</td>\n",
       "    </tr>\n",
       "    <tr>\n",
       "      <th>2</th>\n",
       "      <td>f2c14f9d-92df-4aaf-8931-ceaf4e63ed72</td>\n",
       "      <td>ccae47b8-75c7-4f5a-aa9e-957deced2137</td>\n",
       "      <td>340.32</td>\n",
       "      <td>2024-01-22 08:06:03</td>\n",
       "      <td>debit card</td>\n",
       "      <td>toys &amp; games</td>\n",
       "      <td>5</td>\n",
       "      <td>29</td>\n",
       "      <td>North Ryan</td>\n",
       "      <td>desktop</td>\n",
       "      <td>67.58.94.93</td>\n",
       "      <td>195 Cole Oval\\nPort Larry, IA 58422</td>\n",
       "      <td>4772 David Stravenue Apt. 447\\nVelasquezside, ...</td>\n",
       "      <td>0</td>\n",
       "      <td>360</td>\n",
       "      <td>8</td>\n",
       "      <td>21 - 30</td>\n",
       "    </tr>\n",
       "    <tr>\n",
       "      <th>3</th>\n",
       "      <td>e9949bfa-194d-486b-84da-9565fca9e5ce</td>\n",
       "      <td>b04960c0-aeee-4907-b1cd-4819016adcef</td>\n",
       "      <td>95.77</td>\n",
       "      <td>2024-01-16 20:34:53</td>\n",
       "      <td>credit card</td>\n",
       "      <td>electronics</td>\n",
       "      <td>5</td>\n",
       "      <td>45</td>\n",
       "      <td>Kaylaville</td>\n",
       "      <td>mobile</td>\n",
       "      <td>202.122.126.216</td>\n",
       "      <td>7609 Cynthia Square\\nWest Brenda, NV 23016</td>\n",
       "      <td>7609 Cynthia Square\\nWest Brenda, NV 23016</td>\n",
       "      <td>0</td>\n",
       "      <td>325</td>\n",
       "      <td>20</td>\n",
       "      <td>41 - 50</td>\n",
       "    </tr>\n",
       "    <tr>\n",
       "      <th>4</th>\n",
       "      <td>7362837c-7538-434e-8731-0df713f5f26d</td>\n",
       "      <td>de9d6351-b3a7-4bc7-9a55-8f013eb66928</td>\n",
       "      <td>77.45</td>\n",
       "      <td>2024-01-16 15:47:23</td>\n",
       "      <td>credit card</td>\n",
       "      <td>clothing</td>\n",
       "      <td>5</td>\n",
       "      <td>42</td>\n",
       "      <td>North Edwardborough</td>\n",
       "      <td>desktop</td>\n",
       "      <td>96.77.232.76</td>\n",
       "      <td>2494 Robert Ramp Suite 313\\nRobinsonport, AS 5...</td>\n",
       "      <td>2494 Robert Ramp Suite 313\\nRobinsonport, AS 5...</td>\n",
       "      <td>0</td>\n",
       "      <td>116</td>\n",
       "      <td>15</td>\n",
       "      <td>41 - 50</td>\n",
       "    </tr>\n",
       "  </tbody>\n",
       "</table>\n",
       "</div>"
      ],
      "text/plain": [
       "                         Transaction ID                           Customer ID  \\\n",
       "0  c12e07a0-8a06-4c0d-b5cc-04f3af688570  8ca9f102-02a4-4207-ab63-484e83a1bdf0   \n",
       "1  7d187603-7961-4fce-9827-9698e2b6a201  4d158416-caae-4b09-bd5b-15235deb9129   \n",
       "2  f2c14f9d-92df-4aaf-8931-ceaf4e63ed72  ccae47b8-75c7-4f5a-aa9e-957deced2137   \n",
       "3  e9949bfa-194d-486b-84da-9565fca9e5ce  b04960c0-aeee-4907-b1cd-4819016adcef   \n",
       "4  7362837c-7538-434e-8731-0df713f5f26d  de9d6351-b3a7-4bc7-9a55-8f013eb66928   \n",
       "\n",
       "   Transaction Amount     Transaction Date Payment Method Product Category  \\\n",
       "0               42.32  2024-03-24 23:42:43         PayPal      electronics   \n",
       "1              301.34  2024-01-22 00:53:31    credit card      electronics   \n",
       "2              340.32  2024-01-22 08:06:03     debit card     toys & games   \n",
       "3               95.77  2024-01-16 20:34:53    credit card      electronics   \n",
       "4               77.45  2024-01-16 15:47:23    credit card         clothing   \n",
       "\n",
       "   Quantity  Customer Age    Customer Location Device Used       IP Address  \\\n",
       "0         1            40      East Jameshaven     desktop    110.87.246.85   \n",
       "1         3            35             Kingstad      tablet    14.73.104.153   \n",
       "2         5            29           North Ryan     desktop      67.58.94.93   \n",
       "3         5            45           Kaylaville      mobile  202.122.126.216   \n",
       "4         5            42  North Edwardborough     desktop     96.77.232.76   \n",
       "\n",
       "                                    Shipping Address  \\\n",
       "0  5399 Rachel Stravenue Suite 718\\nNorth Blakebu...   \n",
       "1        5230 Stephanie Forge\\nCollinsbury, PR 81853   \n",
       "2                195 Cole Oval\\nPort Larry, IA 58422   \n",
       "3         7609 Cynthia Square\\nWest Brenda, NV 23016   \n",
       "4  2494 Robert Ramp Suite 313\\nRobinsonport, AS 5...   \n",
       "\n",
       "                                     Billing Address  Is Fraudulent  \\\n",
       "0  5399 Rachel Stravenue Suite 718\\nNorth Blakebu...              0   \n",
       "1        5230 Stephanie Forge\\nCollinsbury, PR 81853              0   \n",
       "2  4772 David Stravenue Apt. 447\\nVelasquezside, ...              0   \n",
       "3         7609 Cynthia Square\\nWest Brenda, NV 23016              0   \n",
       "4  2494 Robert Ramp Suite 313\\nRobinsonport, AS 5...              0   \n",
       "\n",
       "   Account Age Days  Transaction Hour Age Group  \n",
       "0               282                23   41 - 50  \n",
       "1               223                 0   31 - 40  \n",
       "2               360                 8   21 - 30  \n",
       "3               325                20   41 - 50  \n",
       "4               116                15   41 - 50  "
      ]
     },
     "execution_count": 107,
     "metadata": {},
     "output_type": "execute_result"
    }
   ],
   "source": [
    "df.head()"
   ]
  },
  {
   "cell_type": "markdown",
   "metadata": {
    "id": "6fJt-5LN8GM-"
   },
   "source": [
    "# Additional Features from IP Address\n"
   ]
  },
  {
   "cell_type": "code",
   "execution_count": 108,
   "metadata": {
    "colab": {
     "base_uri": "https://localhost:8080/"
    },
    "executionInfo": {
     "elapsed": 1357152,
     "status": "ok",
     "timestamp": 1732090913564,
     "user": {
      "displayName": "Brian Long",
      "userId": "09814485269251064880"
     },
     "user_tz": -480
    },
    "id": "VyyJA70wFz_M",
    "outputId": "a98b48da-544f-4808-9d2f-625df31533bd"
   },
   "outputs": [
    {
     "name": "stdout",
     "output_type": "stream",
     "text": [
      "Processing batch 1/237...\n",
      "Processing batch 2/237...\n",
      "Processing batch 3/237...\n",
      "Processing batch 4/237...\n",
      "Processing batch 5/237...\n",
      "Processing batch 6/237...\n",
      "Processing batch 7/237...\n",
      "Processing batch 8/237...\n",
      "Processing batch 9/237...\n",
      "Processing batch 10/237...\n",
      "Processing batch 11/237...\n",
      "Processing batch 12/237...\n",
      "Processing batch 13/237...\n",
      "Processing batch 14/237...\n",
      "Processing batch 15/237...\n",
      "Error during request: 429 Client Error: Too Many Requests for url: http://ip-api.com/batch?fields=status,country,proxy,query\n",
      "Rate limit reached, sleeping for 90 seconds...\n",
      "Processing batch 16/237...\n",
      "Processing batch 17/237...\n",
      "Processing batch 18/237...\n",
      "Processing batch 19/237...\n",
      "Processing batch 20/237...\n",
      "Processing batch 21/237...\n",
      "Processing batch 22/237...\n",
      "Processing batch 23/237...\n",
      "Processing batch 24/237...\n",
      "Processing batch 25/237...\n",
      "Processing batch 26/237...\n",
      "Processing batch 27/237...\n",
      "Processing batch 28/237...\n",
      "Processing batch 29/237...\n",
      "Processing batch 30/237...\n",
      "Rate limit reached, sleeping for 90 seconds...\n",
      "Processing batch 31/237...\n",
      "Processing batch 32/237...\n",
      "Processing batch 33/237...\n",
      "Processing batch 34/237...\n",
      "Processing batch 35/237...\n",
      "Processing batch 36/237...\n",
      "Processing batch 37/237...\n",
      "Processing batch 38/237...\n",
      "Processing batch 39/237...\n",
      "Processing batch 40/237...\n",
      "Processing batch 41/237...\n",
      "Processing batch 42/237...\n",
      "Processing batch 43/237...\n",
      "Processing batch 44/237...\n",
      "Processing batch 45/237...\n",
      "Rate limit reached, sleeping for 90 seconds...\n",
      "Processing batch 46/237...\n",
      "Processing batch 47/237...\n",
      "Processing batch 48/237...\n",
      "Processing batch 49/237...\n",
      "Processing batch 50/237...\n",
      "Processing batch 51/237...\n",
      "Processing batch 52/237...\n",
      "Processing batch 53/237...\n",
      "Processing batch 54/237...\n",
      "Processing batch 55/237...\n",
      "Processing batch 56/237...\n",
      "Processing batch 57/237...\n",
      "Processing batch 58/237...\n",
      "Processing batch 59/237...\n",
      "Processing batch 60/237...\n",
      "Rate limit reached, sleeping for 90 seconds...\n",
      "Processing batch 61/237...\n",
      "Processing batch 62/237...\n",
      "Processing batch 63/237...\n",
      "Processing batch 64/237...\n",
      "Processing batch 65/237...\n",
      "Processing batch 66/237...\n",
      "Processing batch 67/237...\n",
      "Processing batch 68/237...\n",
      "Processing batch 69/237...\n",
      "Processing batch 70/237...\n",
      "Processing batch 71/237...\n",
      "Processing batch 72/237...\n",
      "Processing batch 73/237...\n",
      "Processing batch 74/237...\n",
      "Processing batch 75/237...\n",
      "Rate limit reached, sleeping for 90 seconds...\n",
      "Processing batch 76/237...\n",
      "Processing batch 77/237...\n",
      "Processing batch 78/237...\n",
      "Processing batch 79/237...\n",
      "Processing batch 80/237...\n",
      "Processing batch 81/237...\n",
      "Processing batch 82/237...\n",
      "Processing batch 83/237...\n",
      "Processing batch 84/237...\n",
      "Processing batch 85/237...\n",
      "Processing batch 86/237...\n",
      "Processing batch 87/237...\n",
      "Processing batch 88/237...\n",
      "Processing batch 89/237...\n",
      "Processing batch 90/237...\n",
      "Rate limit reached, sleeping for 90 seconds...\n",
      "Processing batch 91/237...\n",
      "Processing batch 92/237...\n",
      "Processing batch 93/237...\n",
      "Processing batch 94/237...\n",
      "Processing batch 95/237...\n",
      "Processing batch 96/237...\n",
      "Processing batch 97/237...\n",
      "Processing batch 98/237...\n",
      "Processing batch 99/237...\n",
      "Processing batch 100/237...\n",
      "Processing batch 101/237...\n",
      "Processing batch 102/237...\n",
      "Processing batch 103/237...\n",
      "Processing batch 104/237...\n",
      "Processing batch 105/237...\n",
      "Rate limit reached, sleeping for 90 seconds...\n",
      "Processing batch 106/237...\n",
      "Processing batch 107/237...\n",
      "Processing batch 108/237...\n",
      "Processing batch 109/237...\n",
      "Processing batch 110/237...\n",
      "Processing batch 111/237...\n",
      "Processing batch 112/237...\n",
      "Processing batch 113/237...\n",
      "Processing batch 114/237...\n",
      "Processing batch 115/237...\n",
      "Processing batch 116/237...\n",
      "Processing batch 117/237...\n",
      "Processing batch 118/237...\n",
      "Processing batch 119/237...\n",
      "Processing batch 120/237...\n",
      "Rate limit reached, sleeping for 90 seconds...\n",
      "Processing batch 121/237...\n",
      "Processing batch 122/237...\n",
      "Processing batch 123/237...\n",
      "Processing batch 124/237...\n",
      "Processing batch 125/237...\n",
      "Processing batch 126/237...\n",
      "Processing batch 127/237...\n",
      "Processing batch 128/237...\n",
      "Processing batch 129/237...\n",
      "Processing batch 130/237...\n",
      "Processing batch 131/237...\n",
      "Processing batch 132/237...\n",
      "Processing batch 133/237...\n",
      "Processing batch 134/237...\n",
      "Processing batch 135/237...\n",
      "Rate limit reached, sleeping for 90 seconds...\n",
      "Processing batch 136/237...\n",
      "Processing batch 137/237...\n",
      "Processing batch 138/237...\n",
      "Processing batch 139/237...\n",
      "Processing batch 140/237...\n",
      "Processing batch 141/237...\n",
      "Processing batch 142/237...\n",
      "Processing batch 143/237...\n",
      "Processing batch 144/237...\n",
      "Processing batch 145/237...\n",
      "Processing batch 146/237...\n",
      "Processing batch 147/237...\n",
      "Processing batch 148/237...\n",
      "Processing batch 149/237...\n",
      "Processing batch 150/237...\n",
      "Rate limit reached, sleeping for 90 seconds...\n",
      "Processing batch 151/237...\n",
      "Processing batch 152/237...\n",
      "Processing batch 153/237...\n",
      "Processing batch 154/237...\n",
      "Processing batch 155/237...\n",
      "Processing batch 156/237...\n",
      "Processing batch 157/237...\n",
      "Processing batch 158/237...\n",
      "Processing batch 159/237...\n",
      "Processing batch 160/237...\n",
      "Processing batch 161/237...\n",
      "Processing batch 162/237...\n",
      "Processing batch 163/237...\n",
      "Processing batch 164/237...\n",
      "Processing batch 165/237...\n",
      "Rate limit reached, sleeping for 90 seconds...\n",
      "Processing batch 166/237...\n",
      "Processing batch 167/237...\n",
      "Processing batch 168/237...\n",
      "Processing batch 169/237...\n",
      "Processing batch 170/237...\n",
      "Processing batch 171/237...\n",
      "Processing batch 172/237...\n",
      "Processing batch 173/237...\n",
      "Processing batch 174/237...\n",
      "Processing batch 175/237...\n",
      "Processing batch 176/237...\n",
      "Processing batch 177/237...\n",
      "Processing batch 178/237...\n",
      "Processing batch 179/237...\n",
      "Processing batch 180/237...\n",
      "Rate limit reached, sleeping for 90 seconds...\n",
      "Processing batch 181/237...\n",
      "Processing batch 182/237...\n",
      "Processing batch 183/237...\n",
      "Processing batch 184/237...\n",
      "Processing batch 185/237...\n",
      "Processing batch 186/237...\n",
      "Processing batch 187/237...\n",
      "Processing batch 188/237...\n",
      "Processing batch 189/237...\n",
      "Processing batch 190/237...\n",
      "Processing batch 191/237...\n",
      "Processing batch 192/237...\n",
      "Processing batch 193/237...\n",
      "Processing batch 194/237...\n",
      "Processing batch 195/237...\n",
      "Rate limit reached, sleeping for 90 seconds...\n",
      "Processing batch 196/237...\n",
      "Processing batch 197/237...\n",
      "Processing batch 198/237...\n",
      "Processing batch 199/237...\n",
      "Processing batch 200/237...\n",
      "Processing batch 201/237...\n",
      "Processing batch 202/237...\n",
      "Processing batch 203/237...\n",
      "Processing batch 204/237...\n",
      "Processing batch 205/237...\n",
      "Processing batch 206/237...\n",
      "Processing batch 207/237...\n",
      "Processing batch 208/237...\n",
      "Processing batch 209/237...\n",
      "Processing batch 210/237...\n",
      "Rate limit reached, sleeping for 90 seconds...\n",
      "Processing batch 211/237...\n",
      "Processing batch 212/237...\n",
      "Processing batch 213/237...\n",
      "Processing batch 214/237...\n",
      "Processing batch 215/237...\n",
      "Processing batch 216/237...\n",
      "Processing batch 217/237...\n",
      "Processing batch 218/237...\n",
      "Processing batch 219/237...\n",
      "Processing batch 220/237...\n",
      "Processing batch 221/237...\n",
      "Processing batch 222/237...\n",
      "Processing batch 223/237...\n",
      "Processing batch 224/237...\n",
      "Processing batch 225/237...\n",
      "Rate limit reached, sleeping for 90 seconds...\n",
      "Processing batch 226/237...\n",
      "Processing batch 227/237...\n",
      "Processing batch 228/237...\n",
      "Processing batch 229/237...\n",
      "Processing batch 230/237...\n",
      "Processing batch 231/237...\n",
      "Processing batch 232/237...\n",
      "Processing batch 233/237...\n",
      "Processing batch 234/237...\n",
      "Processing batch 235/237...\n",
      "Processing batch 236/237...\n",
      "Processing batch 237/237...\n",
      "Data fetching complete. Updated dataframe saved to 'updated_data.csv'.\n"
     ]
    }
   ],
   "source": [
    "import time\n",
    "\n",
    "# Assuming 'ip_address' is the column name containing the IP addresses\n",
    "ip_addresses = df['IP Address'].tolist()\n",
    "\n",
    "# Divide IP addresses into batches of 100\n",
    "batch_size = 100\n",
    "batches = [ip_addresses[i:i + batch_size] for i in range(0, len(ip_addresses), batch_size)]\n",
    "\n",
    "# API URL\n",
    "url = \"http://ip-api.com/batch?fields=status,country,proxy,query\"\n",
    "\n",
    "# Function to send POST requests\n",
    "def fetch_ip_data(batch):\n",
    "    try:\n",
    "        response = requests.post(url, json=batch, timeout=10)\n",
    "        response.raise_for_status()  # Raise HTTPError for bad responses\n",
    "        return response.json()\n",
    "    except requests.exceptions.RequestException as e:\n",
    "        print(f\"Error during request: {e}\")\n",
    "        return []\n",
    "\n",
    "# Dictionary to store the results for mapping\n",
    "results_dict = {}\n",
    "\n",
    "# Iterate through the batches and adhere to the rate limit\n",
    "for i, batch in enumerate(batches):\n",
    "    print(f\"Processing batch {i + 1}/{len(batches)}...\")\n",
    "    result = fetch_ip_data(batch)\n",
    "    for res in result:\n",
    "        # Use the 'query' field from the response to match the IP\n",
    "        if res.get(\"status\") == \"success\":\n",
    "            results_dict[res[\"query\"]] = {\n",
    "                \"country\": res.get(\"country\"),\n",
    "                \"proxy\": res.get(\"proxy\"),\n",
    "            }\n",
    "\n",
    "    # Wait if we reach the request limit\n",
    "    if (i + 1) % 15 == 0:\n",
    "        print(\"Rate limit reached, sleeping for 90 seconds...\")\n",
    "        time.sleep(90)\n",
    "\n",
    "# Create new columns in the dataframe for each field\n",
    "df[\"IPCountry\"] = df['IP Address'].map(lambda x: results_dict.get(x, {}).get(\"country\"))\n",
    "df[\"Proxy\"] = df['IP Address'].map(lambda x: results_dict.get(x, {}).get(\"proxy\"))\n",
    "\n",
    "# Save the updated dataframe to a CSV file\n",
    "df.to_csv(preprocessed_data_filepath + \"updated_data.csv\", index=False)\n",
    "\n",
    "print(\"Data fetching complete. Updated dataframe saved to 'updated_data.csv'.\")"
   ]
  },
  {
   "cell_type": "code",
   "execution_count": 109,
   "metadata": {
    "colab": {
     "base_uri": "https://localhost:8080/"
    },
    "executionInfo": {
     "elapsed": 428,
     "status": "ok",
     "timestamp": 1732118032247,
     "user": {
      "displayName": "Brian Long",
      "userId": "09814485269251064880"
     },
     "user_tz": -480
    },
    "id": "Bopm9Je5Rao9",
    "outputId": "5318a572-957d-4d1a-8214-f9ef83f3e5ae"
   },
   "outputs": [
    {
     "name": "stdout",
     "output_type": "stream",
     "text": [
      "Null count in new features:\n",
      "IPCountry:  202\n",
      "Proxy:  202\n"
     ]
    }
   ],
   "source": [
    "print(\"Null count in new features:\")\n",
    "print(\"IPCountry: \", sum(df['IPCountry'].isnull()))\n",
    "print(\"Proxy: \", sum(df['Proxy'].isnull()))"
   ]
  },
  {
   "cell_type": "markdown",
   "metadata": {
    "id": "MSbnvl58uvs-"
   },
   "source": [
    "There are some null values for IPCountry, as the IP addresses in the dataset originate from a private network. As such, the null values in IPCountry will later be imputed as `Unknown`."
   ]
  },
  {
   "cell_type": "markdown",
   "metadata": {
    "id": "DqUvOPXfLZw1"
   },
   "source": [
    "# Feature Engineering"
   ]
  },
  {
   "cell_type": "code",
   "execution_count": 169,
   "metadata": {
    "executionInfo": {
     "elapsed": 895,
     "status": "ok",
     "timestamp": 1732117749364,
     "user": {
      "displayName": "Brian Long",
      "userId": "09814485269251064880"
     },
     "user_tz": -480
    },
    "id": "36FTMuDTbE9W"
   },
   "outputs": [],
   "source": [
    "# Load new dataset\n",
    "df = pd.read_csv(preprocessed_data_filepath + \"updated_data.csv\")"
   ]
  },
  {
   "cell_type": "markdown",
   "metadata": {
    "id": "glgQOG_Ae8G6"
   },
   "source": [
    "## Data Cleaning"
   ]
  },
  {
   "cell_type": "code",
   "execution_count": 170,
   "metadata": {
    "executionInfo": {
     "elapsed": 3,
     "status": "ok",
     "timestamp": 1732117749364,
     "user": {
      "displayName": "Brian Long",
      "userId": "09814485269251064880"
     },
     "user_tz": -480
    },
    "id": "r29flxqPBrcB"
   },
   "outputs": [],
   "source": [
    "# Impute missing values in the 'Country' column\n",
    "df['IPCountry'] = df['IPCountry'].fillna('Unknown')\n",
    "df['Proxy'] = df['Proxy'].fillna('Unknown')"
   ]
  },
  {
   "cell_type": "code",
   "execution_count": 171,
   "metadata": {
    "executionInfo": {
     "elapsed": 2,
     "status": "ok",
     "timestamp": 1732117749364,
     "user": {
      "displayName": "Brian Long",
      "userId": "09814485269251064880"
     },
     "user_tz": -480
    },
    "id": "ophEHeWUMzwZ"
   },
   "outputs": [],
   "source": [
    "# Remove negative and zero ages\n",
    "df = df[df['Customer Age'] > 0]"
   ]
  },
  {
   "cell_type": "markdown",
   "metadata": {
    "id": "pPZXoH-HyJt6"
   },
   "source": [
    "## Transaction Amount Data Binning"
   ]
  },
  {
   "cell_type": "code",
   "execution_count": 172,
   "metadata": {
    "colab": {
     "base_uri": "https://localhost:8080/"
    },
    "executionInfo": {
     "elapsed": 717,
     "status": "ok",
     "timestamp": 1732117750079,
     "user": {
      "displayName": "Brian Long",
      "userId": "09814485269251064880"
     },
     "user_tz": -480
    },
    "id": "mRKsVmQZyMEc",
    "outputId": "434281f8-0ef8-46e9-e34c-2ef4edefeeaa"
   },
   "outputs": [],
   "source": [
    "min_transaction_amount = df['Transaction Amount'].min()\n",
    "median_transaction_amount = df['Transaction Amount'].median()\n",
    "mean_transaction_amount = df['Transaction Amount'].mean()\n",
    "max_transaction_amount = df['Transaction Amount'].max()\n",
    "bins = [min_transaction_amount, median_transaction_amount, mean_transaction_amount, max_transaction_amount]\n",
    "labels = ['Low Value', 'Mid Value', 'High Value']\n",
    "df['Transaction Values'] = pd.cut(df['Transaction Amount'], bins=bins, labels=labels, include_lowest=True)\n",
    "label_mapping = {'Low Value': 1, 'Mid Value': 2, 'High Value': 3}\n",
    "df['Transaction Values Ordinal'] = df['Transaction Values'].map(label_mapping)\n",
    "df = df.drop(columns=['Transaction Values'])"
   ]
  },
  {
   "cell_type": "markdown",
   "metadata": {
    "id": "qWjz_AWafCId"
   },
   "source": [
    "## Time Related Features"
   ]
  },
  {
   "cell_type": "code",
   "execution_count": 173,
   "metadata": {
    "executionInfo": {
     "elapsed": 10,
     "status": "ok",
     "timestamp": 1732117750079,
     "user": {
      "displayName": "Brian Long",
      "userId": "09814485269251064880"
     },
     "user_tz": -480
    },
    "id": "YKFfkZXPc-3N"
   },
   "outputs": [],
   "source": [
    "# Time related features\n",
    "df['Transaction Date'] = pd.to_datetime(df['Transaction Date'])\n",
    "df['Transaction Day_of_week'] = df['Transaction Date'].dt.day_of_week\n",
    "df['Transaction Day_of_month'] = df['Transaction Date'].dt.day\n",
    "\n",
    "bins = [0, 6, 12, 18, 24]  # Bin edges (0-6: Night, 6-12: Morning, 12-18: Afternoon, 18-24: Evening)\n",
    "labels = ['Night', 'Morning', 'Afternoon', 'Evening']  # Corresponding labels\n",
    "# Bin the hours\n",
    "df['Transaction Time_of_day'] = pd.cut(df['Transaction Hour'], bins=bins, labels=labels, right=False, include_lowest=True)\n",
    "\n",
    "df['Transaction During_weekend'] = df['Transaction Day_of_week'].apply(lambda x: x in [6, 7])\n",
    "\n",
    "bins = [0, 10, 20, 32]  # Bin edges (1-10, 11-20, 21-31)\n",
    "labels = ['Start', 'Middle', 'End']  # Corresponding labels\n",
    "# Bin the days of the month\n",
    "df['Transaction Phase_of_month'] = pd.cut(df['Transaction Day_of_month'], bins=bins, labels=labels, right=False, include_lowest=True)\n"
   ]
  },
  {
   "cell_type": "markdown",
   "metadata": {
    "id": "saCN-m_Ffdb3"
   },
   "source": [
    "## Boolean Features"
   ]
  },
  {
   "cell_type": "code",
   "execution_count": 174,
   "metadata": {
    "executionInfo": {
     "elapsed": 10,
     "status": "ok",
     "timestamp": 1732117750079,
     "user": {
      "displayName": "Brian Long",
      "userId": "09814485269251064880"
     },
     "user_tz": -480
    },
    "id": "mm63JKt1LfJw"
   },
   "outputs": [],
   "source": [
    "# Check shipping == billing address\n",
    "df.loc[:, 'addressesMatch'] = (df['Shipping Address'] == df['Billing Address']).astype(int)"
   ]
  },
  {
   "cell_type": "code",
   "execution_count": 175,
   "metadata": {
    "colab": {
     "base_uri": "https://localhost:8080/"
    },
    "collapsed": true,
    "executionInfo": {
     "elapsed": 10,
     "status": "ok",
     "timestamp": 1732117750079,
     "user": {
      "displayName": "Brian Long",
      "userId": "09814485269251064880"
     },
     "user_tz": -480
    },
    "id": "YbbPOd7NgBg9",
    "outputId": "219ed8ad-c80b-4865-8c5e-5a64fa0d4c7f"
   },
   "outputs": [],
   "source": [
    "# Check if Shipping Address contains any PO Box indicators (\"APO\", \"FPO\", \"DPO\")\n",
    "df['isPOBox'] = df['Shipping Address'].str.contains(r'\\bAPO|FPO|DPO\\b', case=False, regex=True)"
   ]
  },
  {
   "cell_type": "code",
   "execution_count": 176,
   "metadata": {
    "executionInfo": {
     "elapsed": 7,
     "status": "ok",
     "timestamp": 1732117750079,
     "user": {
      "displayName": "Brian Long",
      "userId": "09814485269251064880"
     },
     "user_tz": -480
    },
    "id": "Rytc5l5fbcZd"
   },
   "outputs": [],
   "source": [
    "# Check if location is USA (Since all shipping and billing are US addresses)\n",
    "def set_ipaddressmatchesUS(country):\n",
    "    if country == 'United States':\n",
    "        return True\n",
    "    elif country == \"Unknown\":\n",
    "        return 'Unknown'\n",
    "    else:\n",
    "        return False\n",
    "\n",
    "df['ipAddressMatchesUS'] = df['IPCountry'].apply(set_ipaddressmatchesUS)\n",
    "df = df.drop(columns=[\"IPCountry\"])"
   ]
  },
  {
   "cell_type": "markdown",
   "metadata": {
    "id": "RiB5uvmEfhLz"
   },
   "source": [
    "## Age Related Feature"
   ]
  },
  {
   "cell_type": "code",
   "execution_count": 177,
   "metadata": {
    "colab": {
     "base_uri": "https://localhost:8080/"
    },
    "executionInfo": {
     "elapsed": 6,
     "status": "ok",
     "timestamp": 1732117750079,
     "user": {
      "displayName": "Brian Long",
      "userId": "09814485269251064880"
     },
     "user_tz": -480
    },
    "id": "5pH6OXY6EuX4",
    "outputId": "8d2c8f0c-f3fa-4798-d4b7-efb02d3c4a8f"
   },
   "outputs": [
    {
     "name": "stdout",
     "output_type": "stream",
     "text": [
      "0    41 - 50\n",
      "1    31 - 40\n",
      "2    21 - 30\n",
      "3    41 - 50\n",
      "4    41 - 50\n",
      "Name: Age Group, dtype: object\n"
     ]
    },
    {
     "data": {
      "text/plain": [
       "Age Group\n",
       "4    9023\n",
       "5    5761\n",
       "3    5664\n",
       "6    1444\n",
       "2    1437\n",
       "7     149\n",
       "1     143\n",
       "8       4\n",
       "Name: count, dtype: int64"
      ]
     },
     "execution_count": 177,
     "metadata": {},
     "output_type": "execute_result"
    }
   ],
   "source": [
    "# Ordinally encode age groups\n",
    "print(df['Age Group'].head())\n",
    "labels = labels = ['1 - 10', '11 - 20', '21 - 30', '31 - 40', '41 - 50', '51 - 60', '61 - 70', '71 - 80']\n",
    "age_groups_mapping = {'1 - 10': 1, '11 - 20': 2, '21 - 30': 3, '31 - 40': 4, '41 - 50': 5, '51 - 60': 6, '61 - 70': 7,'71 - 80' : 8}\n",
    "df['Age Group'] = df['Age Group'].map(age_groups_mapping)\n",
    "df['Age Group'].value_counts()\n"
   ]
  },
  {
   "cell_type": "code",
   "execution_count": 178,
   "metadata": {},
   "outputs": [
    {
     "data": {
      "text/plain": [
       "Customer Life_stage\n",
       "Working Adult    12607\n",
       "Young Adult       6199\n",
       "Middle-Aged       3660\n",
       "Teenage           1045\n",
       "Senior             114\n",
       "Name: count, dtype: int64"
      ]
     },
     "execution_count": 178,
     "metadata": {},
     "output_type": "execute_result"
    }
   ],
   "source": [
    "bins = [0, 17, 29, 44, 60, 80]  # Age ranges\n",
    "labels = ['Teenage', 'Young Adult', 'Working Adult', 'Middle-Aged', 'Senior']  # Labels for each age range\n",
    "df['Customer Life_stage'] = pd.cut(df['Customer Age'], bins=bins, labels=labels, right=True)\n",
    "\n",
    "# Display the first few rows to verify the new column\n",
    "df['Customer Life_stage'].value_counts()"
   ]
  },
  {
   "cell_type": "markdown",
   "metadata": {
    "id": "1C__-qVehvCx"
   },
   "source": [
    "## One Hot Encode Categorical Data"
   ]
  },
  {
   "cell_type": "code",
   "execution_count": 179,
   "metadata": {
    "executionInfo": {
     "elapsed": 4,
     "status": "ok",
     "timestamp": 1732117750079,
     "user": {
      "displayName": "Brian Long",
      "userId": "09814485269251064880"
     },
     "user_tz": -480
    },
    "id": "EzSOdFiDMnTf"
   },
   "outputs": [],
   "source": [
    "# One-hot encode\n",
    "df_encoded = pd.get_dummies(df, columns = [\"Payment Method\",\"Product Category\",\"Device Used\", \"ipAddressMatchesUS\", \"Transaction Time_of_day\", \"Transaction Day_of_week\", \"Proxy\",\"Customer Life_stage\"])"
   ]
  },
  {
   "cell_type": "markdown",
   "metadata": {
    "id": "ZhSO4iawftSs"
   },
   "source": [
    "## Remove Unnecessary Data"
   ]
  },
  {
   "cell_type": "code",
   "execution_count": 180,
   "metadata": {
    "executionInfo": {
     "elapsed": 4,
     "status": "ok",
     "timestamp": 1732117750080,
     "user": {
      "displayName": "Brian Long",
      "userId": "09814485269251064880"
     },
     "user_tz": -480
    },
    "id": "gM5eKwq0fyN4"
   },
   "outputs": [],
   "source": [
    "df_encoded = df_encoded.drop(columns=[\"Transaction ID\", \"Customer ID\", \"Customer Location\", \"Transaction Date\", \"IP Address\", \"Shipping Address\", \"Billing Address\"])"
   ]
  },
  {
   "cell_type": "markdown",
   "metadata": {
    "id": "QHttKN6jB_22"
   },
   "source": [
    "## Save to separate csv\n",
    "This is to prevent rerunning the api requests as well as the preprocessing"
   ]
  },
  {
   "cell_type": "code",
   "execution_count": 181,
   "metadata": {
    "executionInfo": {
     "elapsed": 459,
     "status": "ok",
     "timestamp": 1732117750535,
     "user": {
      "displayName": "Brian Long",
      "userId": "09814485269251064880"
     },
     "user_tz": -480
    },
    "id": "nluewAoVS8S5"
   },
   "outputs": [],
   "source": [
    "# Save intermediate dataset\n",
    "cleaned_data_filepath = \"./Cleaned data/\"\n",
    "df_encoded.to_csv(cleaned_data_filepath + \"finalised_data.csv\", index=False)"
   ]
  },
  {
   "cell_type": "code",
   "execution_count": 183,
   "metadata": {},
   "outputs": [
    {
     "data": {
      "text/html": [
       "<div>\n",
       "<style scoped>\n",
       "    .dataframe tbody tr th:only-of-type {\n",
       "        vertical-align: middle;\n",
       "    }\n",
       "\n",
       "    .dataframe tbody tr th {\n",
       "        vertical-align: top;\n",
       "    }\n",
       "\n",
       "    .dataframe thead th {\n",
       "        text-align: right;\n",
       "    }\n",
       "</style>\n",
       "<table border=\"1\" class=\"dataframe\">\n",
       "  <thead>\n",
       "    <tr style=\"text-align: right;\">\n",
       "      <th></th>\n",
       "      <th>Transaction Amount</th>\n",
       "      <th>Quantity</th>\n",
       "      <th>Customer Age</th>\n",
       "      <th>Is Fraudulent</th>\n",
       "      <th>Account Age Days</th>\n",
       "      <th>Transaction Hour</th>\n",
       "      <th>Age Group</th>\n",
       "      <th>Transaction Values Ordinal</th>\n",
       "      <th>Transaction Day_of_month</th>\n",
       "      <th>Transaction During_weekend</th>\n",
       "      <th>...</th>\n",
       "      <th>Transaction Day_of_week_5</th>\n",
       "      <th>Transaction Day_of_week_6</th>\n",
       "      <th>Proxy_False</th>\n",
       "      <th>Proxy_True</th>\n",
       "      <th>Proxy_Unknown</th>\n",
       "      <th>Customer Life_stage_Teenage</th>\n",
       "      <th>Customer Life_stage_Young Adult</th>\n",
       "      <th>Customer Life_stage_Working Adult</th>\n",
       "      <th>Customer Life_stage_Middle-Aged</th>\n",
       "      <th>Customer Life_stage_Senior</th>\n",
       "    </tr>\n",
       "  </thead>\n",
       "  <tbody>\n",
       "    <tr>\n",
       "      <th>0</th>\n",
       "      <td>42.32</td>\n",
       "      <td>1</td>\n",
       "      <td>40</td>\n",
       "      <td>0</td>\n",
       "      <td>282</td>\n",
       "      <td>23</td>\n",
       "      <td>5</td>\n",
       "      <td>1</td>\n",
       "      <td>24</td>\n",
       "      <td>True</td>\n",
       "      <td>...</td>\n",
       "      <td>False</td>\n",
       "      <td>True</td>\n",
       "      <td>True</td>\n",
       "      <td>False</td>\n",
       "      <td>False</td>\n",
       "      <td>False</td>\n",
       "      <td>False</td>\n",
       "      <td>True</td>\n",
       "      <td>False</td>\n",
       "      <td>False</td>\n",
       "    </tr>\n",
       "    <tr>\n",
       "      <th>1</th>\n",
       "      <td>301.34</td>\n",
       "      <td>3</td>\n",
       "      <td>35</td>\n",
       "      <td>0</td>\n",
       "      <td>223</td>\n",
       "      <td>0</td>\n",
       "      <td>4</td>\n",
       "      <td>3</td>\n",
       "      <td>22</td>\n",
       "      <td>False</td>\n",
       "      <td>...</td>\n",
       "      <td>False</td>\n",
       "      <td>False</td>\n",
       "      <td>True</td>\n",
       "      <td>False</td>\n",
       "      <td>False</td>\n",
       "      <td>False</td>\n",
       "      <td>False</td>\n",
       "      <td>True</td>\n",
       "      <td>False</td>\n",
       "      <td>False</td>\n",
       "    </tr>\n",
       "    <tr>\n",
       "      <th>2</th>\n",
       "      <td>340.32</td>\n",
       "      <td>5</td>\n",
       "      <td>29</td>\n",
       "      <td>0</td>\n",
       "      <td>360</td>\n",
       "      <td>8</td>\n",
       "      <td>3</td>\n",
       "      <td>3</td>\n",
       "      <td>22</td>\n",
       "      <td>False</td>\n",
       "      <td>...</td>\n",
       "      <td>False</td>\n",
       "      <td>False</td>\n",
       "      <td>True</td>\n",
       "      <td>False</td>\n",
       "      <td>False</td>\n",
       "      <td>False</td>\n",
       "      <td>True</td>\n",
       "      <td>False</td>\n",
       "      <td>False</td>\n",
       "      <td>False</td>\n",
       "    </tr>\n",
       "    <tr>\n",
       "      <th>3</th>\n",
       "      <td>95.77</td>\n",
       "      <td>5</td>\n",
       "      <td>45</td>\n",
       "      <td>0</td>\n",
       "      <td>325</td>\n",
       "      <td>20</td>\n",
       "      <td>5</td>\n",
       "      <td>1</td>\n",
       "      <td>16</td>\n",
       "      <td>False</td>\n",
       "      <td>...</td>\n",
       "      <td>False</td>\n",
       "      <td>False</td>\n",
       "      <td>True</td>\n",
       "      <td>False</td>\n",
       "      <td>False</td>\n",
       "      <td>False</td>\n",
       "      <td>False</td>\n",
       "      <td>False</td>\n",
       "      <td>True</td>\n",
       "      <td>False</td>\n",
       "    </tr>\n",
       "    <tr>\n",
       "      <th>4</th>\n",
       "      <td>77.45</td>\n",
       "      <td>5</td>\n",
       "      <td>42</td>\n",
       "      <td>0</td>\n",
       "      <td>116</td>\n",
       "      <td>15</td>\n",
       "      <td>5</td>\n",
       "      <td>1</td>\n",
       "      <td>16</td>\n",
       "      <td>False</td>\n",
       "      <td>...</td>\n",
       "      <td>False</td>\n",
       "      <td>False</td>\n",
       "      <td>True</td>\n",
       "      <td>False</td>\n",
       "      <td>False</td>\n",
       "      <td>False</td>\n",
       "      <td>False</td>\n",
       "      <td>True</td>\n",
       "      <td>False</td>\n",
       "      <td>False</td>\n",
       "    </tr>\n",
       "  </tbody>\n",
       "</table>\n",
       "<p>5 rows × 47 columns</p>\n",
       "</div>"
      ],
      "text/plain": [
       "   Transaction Amount  Quantity  Customer Age  Is Fraudulent  \\\n",
       "0               42.32         1            40              0   \n",
       "1              301.34         3            35              0   \n",
       "2              340.32         5            29              0   \n",
       "3               95.77         5            45              0   \n",
       "4               77.45         5            42              0   \n",
       "\n",
       "   Account Age Days  Transaction Hour  Age Group Transaction Values Ordinal  \\\n",
       "0               282                23          5                          1   \n",
       "1               223                 0          4                          3   \n",
       "2               360                 8          3                          3   \n",
       "3               325                20          5                          1   \n",
       "4               116                15          5                          1   \n",
       "\n",
       "   Transaction Day_of_month  Transaction During_weekend  ...  \\\n",
       "0                        24                        True  ...   \n",
       "1                        22                       False  ...   \n",
       "2                        22                       False  ...   \n",
       "3                        16                       False  ...   \n",
       "4                        16                       False  ...   \n",
       "\n",
       "  Transaction Day_of_week_5  Transaction Day_of_week_6  Proxy_False  \\\n",
       "0                     False                       True         True   \n",
       "1                     False                      False         True   \n",
       "2                     False                      False         True   \n",
       "3                     False                      False         True   \n",
       "4                     False                      False         True   \n",
       "\n",
       "   Proxy_True  Proxy_Unknown  Customer Life_stage_Teenage  \\\n",
       "0       False          False                        False   \n",
       "1       False          False                        False   \n",
       "2       False          False                        False   \n",
       "3       False          False                        False   \n",
       "4       False          False                        False   \n",
       "\n",
       "   Customer Life_stage_Young Adult  Customer Life_stage_Working Adult  \\\n",
       "0                            False                               True   \n",
       "1                            False                               True   \n",
       "2                             True                              False   \n",
       "3                            False                              False   \n",
       "4                            False                               True   \n",
       "\n",
       "   Customer Life_stage_Middle-Aged  Customer Life_stage_Senior  \n",
       "0                            False                       False  \n",
       "1                            False                       False  \n",
       "2                            False                       False  \n",
       "3                             True                       False  \n",
       "4                            False                       False  \n",
       "\n",
       "[5 rows x 47 columns]"
      ]
     },
     "execution_count": 183,
     "metadata": {},
     "output_type": "execute_result"
    }
   ],
   "source": [
    "df_encoded.head()"
   ]
  }
 ],
 "metadata": {
  "colab": {
   "provenance": []
  },
  "kernelspec": {
   "display_name": "base",
   "language": "python",
   "name": "python3"
  },
  "language_info": {
   "codemirror_mode": {
    "name": "ipython",
    "version": 3
   },
   "file_extension": ".py",
   "mimetype": "text/x-python",
   "name": "python",
   "nbconvert_exporter": "python",
   "pygments_lexer": "ipython3",
   "version": "3.12.4"
  }
 },
 "nbformat": 4,
 "nbformat_minor": 0
}
